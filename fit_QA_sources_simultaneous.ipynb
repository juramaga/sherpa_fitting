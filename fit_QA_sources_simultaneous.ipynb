{
 "cells": [
  {
   "cell_type": "code",
   "execution_count": 1,
   "metadata": {},
   "outputs": [
    {
     "name": "stdout",
     "output_type": "stream",
     "text": [
      "Populating the interactive namespace from numpy and matplotlib\n"
     ]
    }
   ],
   "source": [
    "%pylab inline\n",
    "import numpy\n",
    "import matplotlib.pyplot as plt\n",
    "from sherpa.astro import ui\n",
    "from astropy.io import fits\n",
    "#import pyregion"
   ]
  },
  {
   "cell_type": "code",
   "execution_count": 2,
   "metadata": {},
   "outputs": [],
   "source": [
    "# Load ctsimg3 file\n",
    "hdul = fits.open('/Users/juan/L3/mle/qa/data/qa_mrf_acisfJ1820296m161055_001_1254_N022/acisf00972_002N022_r1532b_ctsimg3.fits')\n",
    "\n",
    "# Load ctsimg3 file\n",
    "hdula = fits.open('/Users/juan/L3/mle/qa/data/qa_mrf_acisfJ1820296m161055_001_1254_N022/acisf06403_001N022_r1532b_ctsimg3.fits')\n",
    "\n",
    "# Load ctsimg3 file\n",
    "hdulb = fits.open('/Users/juan/L3/mle/qa/data/qa_mrf_acisfJ1820296m161055_001_1254_N022/acisf06420_000N022_r1532b_ctsimg3.fits')\n",
    "\n",
    "# Load region file\n",
    "hdul1 = fits.open('/Users/juan/L3/mle/qa/data/qa_mrf_acisfJ1820296m161055_001_1254_N022/acisf00972_002N022_r1532_qareg3.fits')\n",
    "\n",
    "# Load psf file\n",
    "hdul2 = fits.open('/Users/juan/L3/mle/qa/data/qa_mrf_acisfJ1820296m161055_001_1254_N022/acisf00972_002N027_r1514b_psf3.fits.gz')\n",
    "\n",
    "# Load psf file\n",
    "hdul2a = fits.open('/Users/juan/L3/mle/qa/data/qa_mrf_acisfJ1820296m161055_001_1254_N022/acisf06403_001N027_r1514b_psf3.fits.gz')\n",
    "\n",
    "# Load psf file\n",
    "hdul2b = fits.open('/Users/juan/L3/mle/qa/data/qa_mrf_acisfJ1820296m161055_001_1254_N022/acisf06420_000N027_r1514b_psf3.fits.gz')\n",
    "\n",
    "\n",
    "# Load table model\n",
    "hdul3 = fits.open('/Users/juan/L3/mle/qa/data/qa_mrf_acisfJ1820296m161055_001_1254_N022/acisf00972_002N026_b_regexp3.fits')\n",
    "\n",
    "# Load table model\n",
    "hdul3a = fits.open('/Users/juan/L3/mle/qa/data/qa_mrf_acisfJ1820296m161055_001_1254_N022/acisf06403_000N026_b_regexp3.fits')\n",
    "\n",
    "# Load table model\n",
    "hdul3b = fits.open('/Users/juan/L3/mle/qa/data/qa_mrf_acisfJ1820296m161055_001_1254_N022/acisf06420_000N026_b_regexp3.fits')\n",
    "\n",
    "# Load table model\n",
    "hdul3c = fits.open('/Users/juan/L3/mle/qa/data/qa_mrf_acisfJ1820296m161055_001_1254_N022/acisf06421_000N026_b_regexp3.fits')\n",
    "\n",
    "# Load table model\n",
    "hdul3d = fits.open('/Users/juan/L3/mle/qa/data/qa_mrf_acisfJ1820296m161055_001_1254_N022/acisf08460_000N026_b_regexp3.fits')\n",
    "\n",
    "# Load table model\n",
    "hdul3e = fits.open('/Users/juan/L3/mle/qa/data/qa_mrf_acisfJ1820296m161055_001_1254_N022/acisf08461_000N026_b_regexp3.fits')\n",
    "\n",
    "\n",
    "# Load exposure map\n",
    "#hdul3 = fits.open('/Users/juan/L3/mle/qa/data/qa_mrf_acisfJ0522499p332815_001_0227_N021/acisf06406_000N024_b_regexp3.fits')\n",
    "\n",
    "# Load bundle mrgsrc3 file\n",
    "#hdul4 = fits.open('/Users/juan/L3/mle/mle_data/output/acisfJ1821102m155828_001N021_bundle_mrgsrc3.fits')"
   ]
  },
  {
   "cell_type": "code",
   "execution_count": 3,
   "metadata": {},
   "outputs": [],
   "source": [
    "#for i in range(len(hdul4[1].data['BUNDLEID'])):\n",
    "\n",
    "#    print(hdul4[1].data['COMPONENT'][i],hdul4[1].data['BUNDLEID'][i])"
   ]
  },
  {
   "cell_type": "code",
   "execution_count": 3,
   "metadata": {},
   "outputs": [
    {
     "name": "stdout",
     "output_type": "stream",
     "text": [
      "(60, 60)\n"
     ]
    }
   ],
   "source": [
    "print(np.shape(hdul[0].data))"
   ]
  },
  {
   "cell_type": "code",
   "execution_count": 3,
   "metadata": {},
   "outputs": [
    {
     "data": {
      "text/plain": [
       "Text(0.5, 1.0, 'PSF')"
      ]
     },
     "execution_count": 3,
     "metadata": {},
     "output_type": "execute_result"
    },
    {
     "data": {
      "image/png": "[encoded data removed]",
      "text/plain": [
       "<Figure size 720x1584 with 2 Axes>"
      ]
     },
     "metadata": {
      "needs_background": "light"
     },
     "output_type": "display_data"
    }
   ],
   "source": [
    "fig, (ax1, ax2) =  plt.subplots(figsize=(10,22), ncols=2)\n",
    "pos1 = ax1.imshow(hdul[0].data)\n",
    "#fig.colorbar(pos1, ax=ax1)\n",
    "ax1.set_title('Data')\n",
    "pos2 = ax2.imshow(hdul2[0].data)\n",
    "#fig.colorbar(pos2, ax=ax2)\n",
    "ax2.set_title('PSF')\n",
    "\n",
    "#plt.imshow(hdul[0].data)"
   ]
  },
  {
   "cell_type": "code",
   "execution_count": 4,
   "metadata": {},
   "outputs": [
    {
     "data": {
      "text/plain": [
       "Text(0.5, 1.0, 'PSF')"
      ]
     },
     "execution_count": 4,
     "metadata": {},
     "output_type": "execute_result"
    },
    {
     "data": {
      "image/png": "[encoded data removed]",
      "text/plain": [
       "<Figure size 720x1584 with 2 Axes>"
      ]
     },
     "metadata": {
      "needs_background": "light"
     },
     "output_type": "display_data"
    }
   ],
   "source": [
    "fig, (ax1, ax2) =  plt.subplots(figsize=(10,22), ncols=2)\n",
    "pos1 = ax1.imshow(hdula[0].data)\n",
    "#fig.colorbar(pos1, ax=ax1)\n",
    "ax1.set_title('Data')\n",
    "pos2 = ax2.imshow(hdul2a[0].data)\n",
    "#fig.colorbar(pos2, ax=ax2)\n",
    "ax2.set_title('PSF')"
   ]
  },
  {
   "cell_type": "code",
   "execution_count": 5,
   "metadata": {},
   "outputs": [
    {
     "data": {
      "text/plain": [
       "Text(0.5, 1.0, 'PSF')"
      ]
     },
     "execution_count": 5,
     "metadata": {},
     "output_type": "execute_result"
    },
    {
     "data": {
      "image/png": "[encoded data removed]",
      "text/plain": [
       "<Figure size 720x1584 with 2 Axes>"
      ]
     },
     "metadata": {
      "needs_background": "light"
     },
     "output_type": "display_data"
    }
   ],
   "source": [
    "fig, (ax1, ax2) =  plt.subplots(figsize=(10,22), ncols=2)\n",
    "pos1 = ax1.imshow(hdulb[0].data)\n",
    "#fig.colorbar(pos1, ax=ax1)\n",
    "ax1.set_title('Data')\n",
    "pos2 = ax2.imshow(hdul2b[0].data)\n",
    "#fig.colorbar(pos2, ax=ax2)\n",
    "ax2.set_title('PSF')"
   ]
  },
  {
   "cell_type": "code",
   "execution_count": 6,
   "metadata": {},
   "outputs": [],
   "source": [
    "#hdul.info()\n",
    "#psf2 = hdul2[1].data.T\n",
    "#heado = hdul2[1].header\n",
    "#hdu = fits.PrimaryHDU(psf2,header=heado)\n",
    "#hdu.writeto('/Users/juan/L3/mle/qa/data/qa_mrf_acisfJ1820296m161055_001_1254_N022/acisf00972_002N027_r1514b_binpsf3.fits')"
   ]
  },
  {
   "cell_type": "code",
   "execution_count": 7,
   "metadata": {},
   "outputs": [],
   "source": [
    "#hdul3.info()\n",
    "#expmap = hdul3e[0].data\n",
    "#expmap = hdul3e[0].data/np.max(hdul3e[0].data)\n",
    "#heado = hdul3e[0].header\n",
    "#hdu = fits.PrimaryHDU(expmap,header=heado)\n",
    "#hdu.writeto('/Users/juan/L3/mle/qa/data/qa_mrf_acisfJ1820296m161055_001_1254_N022/acisf08461_000N026_b_normexp3.fits')"
   ]
  },
  {
   "cell_type": "code",
   "execution_count": 8,
   "metadata": {},
   "outputs": [],
   "source": [
    "#plt.hist(expmap)"
   ]
  },
  {
   "cell_type": "code",
   "execution_count": 4,
   "metadata": {},
   "outputs": [],
   "source": [
    "# Load data into sherpa\n",
    "ui.load_image(1,\"/Users/juan/L3/mle/qa/data/qa_mrf_acisfJ1820296m161055_001_1254_N022/acisf00972_002N022_r1532b_ctsimg3.fits\")\n",
    "ui.load_image(2,\"/Users/juan/L3/mle/qa/data/qa_mrf_acisfJ1820296m161055_001_1254_N022/acisf06403_001N022_r1532b_ctsimg3.fits\")\n",
    "ui.load_image(3,\"/Users/juan/L3/mle/qa/data/qa_mrf_acisfJ1820296m161055_001_1254_N022/acisf06420_000N022_r1532b_ctsimg3.fits\")\n",
    "ui.load_image(4,\"/Users/juan/L3/mle/qa/data/qa_mrf_acisfJ1820296m161055_001_1254_N022/acisf06421_000N022_r1532b_ctsimg3.fits\")\n",
    "ui.load_image(5,\"/Users/juan/L3/mle/qa/data/qa_mrf_acisfJ1820296m161055_001_1254_N022/acisf08460_000N022_r1532b_ctsimg3.fits\")\n",
    "ui.load_image(6,\"/Users/juan/L3/mle/qa/data/qa_mrf_acisfJ1820296m161055_001_1254_N022/acisf08461_000N022_r1532b_ctsimg3.fits\")\n",
    "\n",
    "# Now the PSF\n",
    "ui.load_psf(\"psf0\",\"/Users/juan/L3/mle/qa/data/qa_mrf_acisfJ1820296m161055_001_1254_N022/acisf00972_002N027_r1514b_psf3.fits.gz\")\n",
    "ui.load_psf(\"psf1\",\"/Users/juan/L3/mle/qa/data/qa_mrf_acisfJ1820296m161055_001_1254_N022/acisf06403_001N027_r1514b_psf3.fits.gz\")\n",
    "ui.load_psf(\"psf2\",\"/Users/juan/L3/mle/qa/data/qa_mrf_acisfJ1820296m161055_001_1254_N022/acisf06420_000N027_r1514b_psf3.fits.gz\")\n",
    "ui.load_psf(\"psf3\",\"/Users/juan/L3/mle/qa/data/qa_mrf_acisfJ1820296m161055_001_1254_N022/acisf06421_000N027_r1514b_psf3.fits.gz\")\n",
    "ui.load_psf(\"psf4\",\"/Users/juan/L3/mle/qa/data/qa_mrf_acisfJ1820296m161055_001_1254_N022/acisf08460_000N027_r1514b_psf3.fits.gz\")\n",
    "ui.load_psf(\"psf5\",\"/Users/juan/L3/mle/qa/data/qa_mrf_acisfJ1820296m161055_001_1254_N022/acisf08461_000N027_r1514b_psf3.fits.gz\")\n"
   ]
  },
  {
   "cell_type": "code",
   "execution_count": 5,
   "metadata": {},
   "outputs": [],
   "source": [
    "# Now we load the background table models\n",
    "ui.load_table_model('t1', '/Users/juan/L3/mle/qa/data/qa_mrf_acisfJ1820296m161055_001_1254_N022/acisf00972_002N020_b_regbkg3.fits')\n",
    "ui.load_table_model('t1a', '/Users/juan/L3/mle/qa/data/qa_mrf_acisfJ1820296m161055_001_1254_N022/acisf06403_001N020_b_regbkg3.fits')\n",
    "ui.load_table_model('t1b', '/Users/juan/L3/mle/qa/data/qa_mrf_acisfJ1820296m161055_001_1254_N022/acisf06420_000N020_b_regbkg3.fits')\n",
    "ui.load_table_model('t1c', '/Users/juan/L3/mle/qa/data/qa_mrf_acisfJ1820296m161055_001_1254_N022/acisf06421_000N020_b_regbkg3.fits')\n",
    "ui.load_table_model('t1d', '/Users/juan/L3/mle/qa/data/qa_mrf_acisfJ1820296m161055_001_1254_N022/acisf08460_000N020_b_regbkg3.fits')\n",
    "ui.load_table_model('t1e', '/Users/juan/L3/mle/qa/data/qa_mrf_acisfJ1820296m161055_001_1254_N022/acisf08461_000N020_b_regbkg3.fits')\n",
    "\n",
    "\n",
    "# Now we load the exposure map table models\n",
    "ui.load_table_model('t2', '/Users/juan/L3/mle/qa/data/qa_mrf_acisfJ1820296m161055_001_1254_N022/acisf00972_002N026_b_normexp3.fits')\n",
    "ui.load_table_model('t2a', '/Users/juan/L3/mle/qa/data/qa_mrf_acisfJ1820296m161055_001_1254_N022/acisf06403_000N026_b_normexp3.fits')\n",
    "ui.load_table_model('t2b', '/Users/juan/L3/mle/qa/data/qa_mrf_acisfJ1820296m161055_001_1254_N022/acisf06420_000N026_b_normexp3.fits')\n",
    "ui.load_table_model('t2c', '/Users/juan/L3/mle/qa/data/qa_mrf_acisfJ1820296m161055_001_1254_N022/acisf06421_000N026_b_normexp3.fits')\n",
    "ui.load_table_model('t2d', '/Users/juan/L3/mle/qa/data/qa_mrf_acisfJ1820296m161055_001_1254_N022/acisf08460_000N026_b_normexp3.fits')\n",
    "ui.load_table_model('t2e', '/Users/juan/L3/mle/qa/data/qa_mrf_acisfJ1820296m161055_001_1254_N022/acisf08461_000N026_b_normexp3.fits')"
   ]
  },
  {
   "cell_type": "code",
   "execution_count": 5,
   "metadata": {},
   "outputs": [],
   "source": [
    "#ui.get_data(1)\n",
    "#ui.get_data(2)\n",
    "#ui.set_psf('psf0')"
   ]
  },
  {
   "cell_type": "code",
   "execution_count": 11,
   "metadata": {},
   "outputs": [],
   "source": [
    "#ui.calc_data_sum2d()"
   ]
  },
  {
   "cell_type": "code",
   "execution_count": 6,
   "metadata": {},
   "outputs": [],
   "source": [
    "ui.set_stat(\"cstat\")"
   ]
  },
  {
   "cell_type": "code",
   "execution_count": 7,
   "metadata": {},
   "outputs": [],
   "source": [
    "ui.set_method(\"moncar\")"
   ]
  },
  {
   "cell_type": "code",
   "execution_count": 8,
   "metadata": {},
   "outputs": [],
   "source": [
    "ui.set_coord(\"physical\")"
   ]
  },
  {
   "cell_type": "code",
   "execution_count": 17,
   "metadata": {},
   "outputs": [
    {
     "name": "stdout",
     "output_type": "stream",
     "text": [
      "Ellipse(4441.477102253362, 4189.695009912065, 21.011154651641846, 21.011154651641846, 37.02178192138672)\n"
     ]
    }
   ],
   "source": [
    "print(hdul1[2].data[0][2][0:]+'('+str(hdul1[2].data[0][0])+', '+str(hdul1[2].data[0][1])+', '+str(hdul1[2].data[0][3][0])\n",
    "      +', '+str(hdul1[2].data[0][3][1])+', '+str(hdul1[2].data[0][4][0])+')')"
   ]
  },
  {
   "cell_type": "code",
   "execution_count": 17,
   "metadata": {},
   "outputs": [],
   "source": [
    "#print(hdul1[2].data)"
   ]
  },
  {
   "cell_type": "code",
   "execution_count": 15,
   "metadata": {},
   "outputs": [
    {
     "name": "stdout",
     "output_type": "stream",
     "text": [
      "Ellipse(4452.447530367111, 4179.256544227234, 3.9565301895141607, 3.912314701326578, 77.33145049230345)\n"
     ]
    }
   ],
   "source": [
    "print(hdul1[2].data[1][2][1:]+'('+str(hdul1[2].data[1][0])+', '+str(hdul1[2].data[1][1])+', '+str(hdul1[2].data[1][3][0])\n",
    "      +', '+str(hdul1[2].data[1][3][1])+', '+str(hdul1[2].data[1][4][0])+')')"
   ]
  },
  {
   "cell_type": "code",
   "execution_count": 9,
   "metadata": {},
   "outputs": [],
   "source": [
    "ui.notice2d(hdul1[2].data[1][2][1:]+'('+str(hdul1[2].data[0][0])+', '+str(hdul1[2].data[0][1])+', '+str(hdul1[2].data[0][3][0])\n",
    "      +', '+str(hdul1[2].data[0][3][1])+', '+str(hdul1[2].data[0][4][0])+') - '+hdul1[2].data[2][2][1:]+'('+str(hdul1[2].data[2][0])+', '+str(hdul1[2].data[2][1])+', '+str(hdul1[2].data[2][3][0])\n",
    "      +', '+str(hdul1[2].data[2][3][1])+', '+str(hdul1[2].data[2][4][0])+') - '+hdul1[2].data[2][2][1:]+'('+str(hdul1[2].data[1][0])+', '+str(hdul1[2].data[1][1])+', '+str(hdul1[2].data[1][3][0])\n",
    "      +', '+str(hdul1[2].data[1][3][1])+', '+str(hdul1[2].data[1][4][0])+')')\n",
    "\n",
    "bkg = ui.get_filter()\n",
    "ui.notice2d()\n",
    "#ui.notice2d('/Users/juan/L3/mle/qa/data/qa_mrf_acisfJ0522499p332815_001_0227_N021/bkg1.reg')\n",
    "#ui.ignore2d('/Users/juan/L3/mle/qa/data/qa_mrf_acisfJ1820296m161055_001_1254_N022/src.reg')\n"
   ]
  },
  {
   "cell_type": "code",
   "execution_count": 10,
   "metadata": {},
   "outputs": [],
   "source": [
    "ui.notice2d('/Users/juan/L3/mle/qa/data/qa_mrf_acisfJ1820296m161055_001_1254_N022/src.reg')\n",
    "src = ui.get_filter()\n",
    "ui.notice2d()\n",
    "\n",
    "ui.notice2d(\"{0}-{1}\".format(bkg,src))"
   ]
  },
  {
   "cell_type": "code",
   "execution_count": 22,
   "metadata": {},
   "outputs": [],
   "source": [
    "#print(hdul1[4].data[2][2][1:]+'('+str(hdul1[4].data[2][0])+', '+str(hdul1[4].data[2][1])+', '+str(hdul1[4].data[2][3][0])\n",
    "#      +', '+str(hdul1[4].data[2][3][1])+', '+str(hdul1[4].data[2][4][0])+')')"
   ]
  },
  {
   "cell_type": "code",
   "execution_count": 23,
   "metadata": {},
   "outputs": [],
   "source": [
    "#ui.ignore2d(hdul1[4].data[2][2][1:]+'('+str(hdul1[4].data[2][0])+', '+str(hdul1[4].data[2][1])+', '+str(hdul1[4].data[2][3][0])\n",
    "#      +', '+str(hdul1[4].data[2][3][1])+', '+str(hdul1[4].data[2][4][0])+')')"
   ]
  },
  {
   "cell_type": "code",
   "execution_count": 24,
   "metadata": {},
   "outputs": [],
   "source": [
    "#ui.ignore2d(hdul1[4].data[3][2][1:]+'('+str(hdul1[4].data[3][0])+', '+str(hdul1[4].data[3][1])+', '+str(hdul1[4].data[3][3][0])\n",
    "#      +', '+str(hdul1[4].data[3][3][1])+', '+str(hdul1[4].data[3][4][0])+')')"
   ]
  },
  {
   "cell_type": "code",
   "execution_count": 25,
   "metadata": {},
   "outputs": [],
   "source": [
    "#ui.calc_data_sum2d(hdul1[4].data[0][2]+'('+str(hdul1[4].data[0][0])+', '+str(hdul1[4].data[0][1])+', '+str(hdul1[4].data[0][3][0])\n",
    "#      +', '+str(hdul1[4].data[0][3][1])+', '+str(hdul1[4].data[0][4][0])+')')"
   ]
  },
  {
   "cell_type": "code",
   "execution_count": 11,
   "metadata": {},
   "outputs": [],
   "source": [
    "# Set source to only background\n",
    "ui.set_source(1,t1)\n",
    "ui.set_source(2,t1a)\n",
    "ui.set_source(3,t1b)\n",
    "ui.set_source(4,t1c)\n",
    "ui.set_source(5,t1d)\n",
    "ui.set_source(6,t1e)"
   ]
  },
  {
   "cell_type": "code",
   "execution_count": 12,
   "metadata": {},
   "outputs": [
    {
     "name": "stdout",
     "output_type": "stream",
     "text": [
      "WARNING: No guess found for tablemodel.t1\n",
      "Datasets              = 1, 2, 3, 4, 5, 6\n",
      "Method                = moncar\n",
      "Statistic             = cstat\n",
      "Initial fit statistic = 981.122\n",
      "Final fit statistic   = 975.538 at function evaluation 9288\n",
      "Data points           = 6510\n",
      "Degrees of freedom    = 6504\n",
      "Probability [Q-value] = 1\n",
      "Reduced statistic     = 0.14999\n",
      "Change in statistic   = 5.58371\n",
      "   t1.ampl        0.875964    \n",
      "   t1a.ampl       0.773041    \n",
      "   t1b.ampl       1.2971      \n",
      "   t1c.ampl       1.06733     \n",
      "   t1d.ampl       0.959253    \n",
      "   t1e.ampl       1.10567     \n"
     ]
    }
   ],
   "source": [
    "# Fit background\n",
    "ui.guess()\n",
    "ui.fit(1,2,3,4,5,6)"
   ]
  },
  {
   "cell_type": "code",
   "execution_count": 15,
   "metadata": {},
   "outputs": [
    {
     "data": {
      "text/plain": [
       "975.5380329771938"
      ]
     },
     "execution_count": 15,
     "metadata": {},
     "output_type": "execute_result"
    }
   ],
   "source": [
    "ui.calc_stat()"
   ]
  },
  {
   "cell_type": "code",
   "execution_count": 13,
   "metadata": {},
   "outputs": [],
   "source": [
    "#print(t1.ampl)"
   ]
  },
  {
   "cell_type": "code",
   "execution_count": 13,
   "metadata": {},
   "outputs": [],
   "source": [
    "# Now notice only the source region\n",
    "ui.notice2d()"
   ]
  },
  {
   "cell_type": "code",
   "execution_count": 14,
   "metadata": {},
   "outputs": [],
   "source": [
    "#ui.notice2d(hdul1[5].data[0][2]+'('+str(hdul1[5].data[0][0])+', '+str(hdul1[5].data[0][1])+', '+str(hdul1[5].data[0][3][0])\n",
    "#      +', '+str(hdul1[5].data[0][3][1])+', '+str(hdul1[5].data[0][4][0])+')')\n",
    "ui.notice2d('/Users/juan/L3/mle/qa/data/qa_mrf_acisfJ1820296m161055_001_1254_N022/src.reg')"
   ]
  },
  {
   "cell_type": "code",
   "execution_count": 15,
   "metadata": {},
   "outputs": [],
   "source": [
    "# Now set three source models and combine them. Only the Gaussian model first, without convolving, etc.\n",
    "s1 = ui.sigmagauss2d('sim1')\n",
    "s2 = ui.sigmagauss2d('sim2')\n",
    "#s3 = ui.sigmagauss2d('sim3')\n",
    "#s4 = ui.sigmagauss2d('sim4')\n",
    "#s5 = ui.sigmagauss2d('sim5')\n",
    "#s6 = ui.sigmagauss2d('sim6')\n",
    "#s7 = ui.sigmagauss2d('sim7')\n",
    "\n",
    "\n",
    "# Set model to background plus sources\n",
    "ui.set_source(1, t1 + sim1 + sim2)\n",
    "ui.set_source(2, t1a + sim1 + sim2)\n",
    "ui.set_source(3, t1b + sim1 + sim2)\n",
    "ui.set_source(4, t1c + sim1 + sim2)\n",
    "ui.set_source(5, t1d + sim1 + sim2)\n",
    "ui.set_source(6, t1e + sim1 + sim2)"
   ]
  },
  {
   "cell_type": "code",
   "execution_count": 19,
   "metadata": {},
   "outputs": [
    {
     "name": "stdout",
     "output_type": "stream",
     "text": [
      "((tablemodel.t1 + sigmagauss2d.sim1) + sigmagauss2d.sim2)\n",
      "   Param        Type          Value          Min          Max      Units\n",
      "   -----        ----          -----          ---          ---      -----\n",
      "   t1.ampl      thawed     0.875964 -3.40282e+38  3.40282e+38           \n",
      "   sim1.sigma_a thawed           10  1.17549e-38  3.40282e+38           \n",
      "   sim1.sigma_b thawed           10  1.17549e-38  3.40282e+38           \n",
      "   sim1.xpos    thawed            0 -3.40282e+38  3.40282e+38           \n",
      "   sim1.ypos    thawed            0 -3.40282e+38  3.40282e+38           \n",
      "   sim1.theta   frozen            0     -6.28319      6.28319    radians\n",
      "   sim1.ampl    thawed            1 -3.40282e+38  3.40282e+38           \n",
      "   sim2.sigma_a thawed           10  1.17549e-38  3.40282e+38           \n",
      "   sim2.sigma_b thawed           10  1.17549e-38  3.40282e+38           \n",
      "   sim2.xpos    thawed            0 -3.40282e+38  3.40282e+38           \n",
      "   sim2.ypos    thawed            0 -3.40282e+38  3.40282e+38           \n",
      "   sim2.theta   frozen            0     -6.28319      6.28319    radians\n",
      "   sim2.ampl    thawed            1 -3.40282e+38  3.40282e+38           \n"
     ]
    }
   ],
   "source": [
    "print(ui.get_source())"
   ]
  },
  {
   "cell_type": "code",
   "execution_count": 16,
   "metadata": {},
   "outputs": [
    {
     "name": "stdout",
     "output_type": "stream",
     "text": [
      "((tablemodel.t1 + sigmagauss2d.sim1) + sigmagauss2d.sim2)\n",
      "   Param        Type          Value          Min          Max      Units\n",
      "   -----        ----          -----          ---          ---      -----\n",
      "   t1.ampl      frozen     0.875964 -3.40282e+38  3.40282e+38           \n",
      "   sim1.sigma_a frozen          0.5  1.17549e-38  3.40282e+38           \n",
      "   sim1.sigma_b frozen          0.5  1.17549e-38  3.40282e+38           \n",
      "   sim1.xpos    thawed            0 -3.40282e+38  3.40282e+38           \n",
      "   sim1.ypos    thawed            0 -3.40282e+38  3.40282e+38           \n",
      "   sim1.theta   frozen            0     -6.28319      6.28319    radians\n",
      "   sim1.ampl    thawed            1 -3.40282e+38  3.40282e+38           \n",
      "   sim2.sigma_a frozen          0.5  1.17549e-38  3.40282e+38           \n",
      "   sim2.sigma_b frozen          0.5  1.17549e-38  3.40282e+38           \n",
      "   sim2.xpos    thawed            0 -3.40282e+38  3.40282e+38           \n",
      "   sim2.ypos    thawed            0 -3.40282e+38  3.40282e+38           \n",
      "   sim2.theta   frozen            0     -6.28319      6.28319    radians\n",
      "   sim2.ampl    thawed            1 -3.40282e+38  3.40282e+38           \n"
     ]
    }
   ],
   "source": [
    "sim1.sigma_a = 0.5\n",
    "sim1.sigma_b = 0.5\n",
    "sim2.sigma_a = 0.5\n",
    "sim2.sigma_b = 0.5\n",
    "\n",
    "ui.freeze(t1.ampl)\n",
    "ui.freeze(t1a.ampl)\n",
    "ui.freeze(t1b.ampl)\n",
    "ui.freeze(t1c.ampl)\n",
    "ui.freeze(t1d.ampl)\n",
    "ui.freeze(t1e.ampl)\n",
    "\n",
    "ui.freeze(sim1.sigma_a)\n",
    "ui.freeze(sim1.sigma_b)\n",
    "ui.freeze(sim1.theta)\n",
    "\n",
    "ui.freeze(sim2.sigma_a)\n",
    "ui.freeze(sim2.sigma_b)\n",
    "ui.freeze(sim2.theta)\n",
    "\n",
    "\n",
    "\n",
    "print(ui.get_source())"
   ]
  },
  {
   "cell_type": "code",
   "execution_count": 17,
   "metadata": {},
   "outputs": [
    {
     "name": "stdout",
     "output_type": "stream",
     "text": [
      "Datasets              = 1, 2, 3, 4, 5, 6\n",
      "Method                = moncar\n",
      "Statistic             = cstat\n",
      "Initial fit statistic = 3697.23\n",
      "Final fit statistic   = 1977.33 at function evaluation 1689\n",
      "Data points           = 678\n",
      "Degrees of freedom    = 672\n",
      "Probability [Q-value] = 1.21862e-128\n",
      "Reduced statistic     = 2.94246\n",
      "Change in statistic   = 1719.9\n",
      "   sim1.xpos      4445.01     \n",
      "   sim1.ypos      4191.32     \n",
      "   sim1.ampl      23.8282     \n",
      "   sim2.xpos      4441.27     \n",
      "   sim2.ypos      4189.79     \n",
      "   sim2.ampl      14.4198     \n"
     ]
    }
   ],
   "source": [
    "ui.guess('sim1')\n",
    "ui.guess('sim2')\n",
    "\n",
    "ui.fit()"
   ]
  },
  {
   "cell_type": "code",
   "execution_count": 22,
   "metadata": {},
   "outputs": [
    {
     "data": {
      "text/plain": [
       "1977.3308443812125"
      ]
     },
     "execution_count": 22,
     "metadata": {},
     "output_type": "execute_result"
    }
   ],
   "source": [
    "ui.calc_stat()"
   ]
  },
  {
   "cell_type": "code",
   "execution_count": 18,
   "metadata": {},
   "outputs": [],
   "source": [
    "# Convolve with PSF, add bckground and exposure map\n",
    "ui.set_source(1, t1 + psf0(sim1+sim2)*t2)\n",
    "ui.set_source(2, t1a + psf1(sim1+sim2)*t2a)\n",
    "ui.set_source(3, t1b + psf2(sim1+sim2)*t2b)\n",
    "ui.set_source(4, t1c + psf3(sim1+sim2)*t2c)\n",
    "ui.set_source(5, t1d + psf4(sim1+sim2)*t2d)\n",
    "ui.set_source(6, t1e + psf5(sim1+sim2)*t2e)"
   ]
  },
  {
   "cell_type": "code",
   "execution_count": 19,
   "metadata": {},
   "outputs": [],
   "source": [
    "# Set parameters (for point source, width of Gaussian set to half a pixel, angle 0)\n",
    "t2.ampl = 1\n",
    "t2a.ampl = 1\n",
    "t2b.ampl = 1\n",
    "t2c.ampl = 1\n",
    "t2d.ampl = 1\n",
    "t2e.ampl = 1\n",
    "sim1.sigma_a = 0.5\n",
    "sim1.sigma_b = 0.5\n",
    "sim2.sigma_a = 0.5\n",
    "sim2.sigma_b = 0.5\n",
    "sim1.theta = 0\n",
    "sim2.theta = 0\n",
    "\n",
    "# Freeze amplitude of background and exposure\n",
    "ui.freeze(t2.ampl)\n",
    "ui.freeze(t2a.ampl)\n",
    "ui.freeze(t2b.ampl)\n",
    "ui.freeze(t2c.ampl)\n",
    "ui.freeze(t2d.ampl)\n",
    "ui.freeze(t2e.ampl)\n",
    "ui.freeze(t1.ampl)\n",
    "ui.freeze(t1a.ampl)\n",
    "ui.freeze(t1b.ampl)\n",
    "ui.freeze(t1c.ampl)\n",
    "ui.freeze(t1d.ampl)\n",
    "ui.freeze(t1e.ampl)\n",
    "\n",
    "# Thaw amplitudes\n",
    "ui.thaw(sim1.ampl)\n",
    "ui.thaw(sim2.ampl)\n",
    "\n",
    "# Freeze thetas and sigmas\n",
    "ui.freeze(sim1.theta)\n",
    "ui.freeze(sim1.sigma_a)\n",
    "ui.freeze(sim1.sigma_b)\n",
    "ui.freeze(sim2.theta)\n",
    "ui.freeze(sim2.sigma_a)\n",
    "ui.freeze(sim2.sigma_b)"
   ]
  },
  {
   "cell_type": "code",
   "execution_count": 25,
   "metadata": {},
   "outputs": [
    {
     "name": "stdout",
     "output_type": "stream",
     "text": [
      "(tablemodel.t1 + (psfmodel.psf0((sigmagauss2d.sim1 + sigmagauss2d.sim2)) * tablemodel.t2))\n",
      "   Param        Type          Value          Min          Max      Units\n",
      "   -----        ----          -----          ---          ---      -----\n",
      "   t1.ampl      frozen     0.875964 -3.40282e+38  3.40282e+38           \n",
      "   sim1.sigma_a frozen          0.5  1.17549e-38  3.40282e+38           \n",
      "   sim1.sigma_b frozen          0.5  1.17549e-38  3.40282e+38           \n",
      "   sim1.xpos    thawed      4445.01      4435.55      4448.55           \n",
      "   sim1.ypos    thawed      4191.32      4184.77      4194.77           \n",
      "   sim1.theta   frozen            0     -6.28319      6.28319    radians\n",
      "   sim1.ampl    thawed      23.8282        0.003         3000           \n",
      "   sim2.sigma_a frozen          0.5  1.17549e-38  3.40282e+38           \n",
      "   sim2.sigma_b frozen          0.5  1.17549e-38  3.40282e+38           \n",
      "   sim2.xpos    thawed      4441.27      4435.55      4448.55           \n",
      "   sim2.ypos    thawed      4189.79      4184.77      4194.77           \n",
      "   sim2.theta   frozen            0     -6.28319      6.28319    radians\n",
      "   sim2.ampl    thawed      14.4198        0.003         3000           \n",
      "   t2.ampl      frozen            1 -3.40282e+38  3.40282e+38           \n"
     ]
    }
   ],
   "source": [
    "print(ui.get_source())"
   ]
  },
  {
   "cell_type": "code",
   "execution_count": 20,
   "metadata": {},
   "outputs": [],
   "source": [
    "# Fold PSF and fit. \n",
    "psf0.fold(ui.get_data(1))\n",
    "psf1.fold(ui.get_data(2))\n",
    "psf2.fold(ui.get_data(3))\n",
    "psf3.fold(ui.get_data(4))\n",
    "psf4.fold(ui.get_data(5))\n",
    "psf5.fold(ui.get_data(6))"
   ]
  },
  {
   "cell_type": "code",
   "execution_count": 21,
   "metadata": {},
   "outputs": [
    {
     "name": "stdout",
     "output_type": "stream",
     "text": [
      "Datasets              = 1, 2, 3, 4, 5, 6\n",
      "Method                = moncar\n",
      "Statistic             = cstat\n",
      "Initial fit statistic = 994.472\n",
      "Final fit statistic   = 861.22 at function evaluation 1549\n",
      "Data points           = 678\n",
      "Degrees of freedom    = 672\n",
      "Probability [Q-value] = 9.60951e-07\n",
      "Reduced statistic     = 1.28158\n",
      "Change in statistic   = 133.252\n",
      "   sim1.xpos      4445.32     \n",
      "   sim1.ypos      4191.35     \n",
      "   sim1.ampl      40.1439     \n",
      "   sim2.xpos      4441.58     \n",
      "   sim2.ypos      4189.67     \n",
      "   sim2.ampl      24.0777     \n"
     ]
    }
   ],
   "source": [
    "# Fit\n",
    "ui.fit()"
   ]
  },
  {
   "cell_type": "code",
   "execution_count": 28,
   "metadata": {},
   "outputs": [
    {
     "data": {
      "text/plain": [
       "861.2201762482692"
      ]
     },
     "execution_count": 28,
     "metadata": {},
     "output_type": "execute_result"
    }
   ],
   "source": [
    "# For likelihood purposes, calculate the statistic now, with this model:\n",
    "ui.calc_stat()"
   ]
  },
  {
   "cell_type": "code",
   "execution_count": 29,
   "metadata": {},
   "outputs": [],
   "source": [
    "# Now set the amplitud of each source to 0, and estimate the likelihood. Fitst source 1:\n",
    "sim1.ampl.min = 0\n",
    "sim1.ampl = 0"
   ]
  },
  {
   "cell_type": "code",
   "execution_count": 30,
   "metadata": {},
   "outputs": [
    {
     "data": {
      "text/plain": [
       "2320.313876191206"
      ]
     },
     "execution_count": 30,
     "metadata": {},
     "output_type": "execute_result"
    }
   ],
   "source": [
    "# Calculate the statistic now, with this model:\n",
    "ui.calc_stat()"
   ]
  },
  {
   "cell_type": "code",
   "execution_count": 31,
   "metadata": {},
   "outputs": [],
   "source": [
    "# Now the other source\n",
    "sim1.ampl = 40.1439\n",
    "sim2.ampl.min = 0\n",
    "sim2.ampl = 0"
   ]
  },
  {
   "cell_type": "code",
   "execution_count": 32,
   "metadata": {},
   "outputs": [
    {
     "data": {
      "text/plain": [
       "1732.991770070942"
      ]
     },
     "execution_count": 32,
     "metadata": {},
     "output_type": "execute_result"
    }
   ],
   "source": [
    "# Calculate the statistic now, with this model:\n",
    "ui.calc_stat()"
   ]
  },
  {
   "cell_type": "code",
   "execution_count": 33,
   "metadata": {},
   "outputs": [],
   "source": [
    "# Back to normal\n",
    "sim2.ampl = 24.0777 "
   ]
  },
  {
   "cell_type": "code",
   "execution_count": 34,
   "metadata": {},
   "outputs": [
    {
     "data": {
      "text/plain": [
       "861.2201762487277"
      ]
     },
     "execution_count": 34,
     "metadata": {},
     "output_type": "execute_result"
    }
   ],
   "source": [
    "# Calculate the statistic now, with this model:\n",
    "ui.calc_stat()"
   ]
  },
  {
   "cell_type": "code",
   "execution_count": 35,
   "metadata": {},
   "outputs": [
    {
     "name": "stdout",
     "output_type": "stream",
     "text": [
      "(tablemodel.t1 + (psfmodel.psf0((sigmagauss2d.sim1 + sigmagauss2d.sim2)) * tablemodel.t2))\n",
      "   Param        Type          Value          Min          Max      Units\n",
      "   -----        ----          -----          ---          ---      -----\n",
      "   t1.ampl      frozen     0.875964 -3.40282e+38  3.40282e+38           \n",
      "   sim1.sigma_a frozen          0.5  1.17549e-38  3.40282e+38           \n",
      "   sim1.sigma_b frozen          0.5  1.17549e-38  3.40282e+38           \n",
      "   sim1.xpos    thawed      4445.32      4435.55      4448.55           \n",
      "   sim1.ypos    thawed      4191.35      4184.77      4194.77           \n",
      "   sim1.theta   frozen            0     -6.28319      6.28319    radians\n",
      "   sim1.ampl    thawed      40.1439            0         3000           \n",
      "   sim2.sigma_a frozen          0.5  1.17549e-38  3.40282e+38           \n",
      "   sim2.sigma_b frozen          0.5  1.17549e-38  3.40282e+38           \n",
      "   sim2.xpos    thawed      4441.58      4435.55      4448.55           \n",
      "   sim2.ypos    thawed      4189.67      4184.77      4194.77           \n",
      "   sim2.theta   frozen            0     -6.28319      6.28319    radians\n",
      "   sim2.ampl    thawed      24.0777            0         3000           \n",
      "   t2.ampl      frozen            1 -3.40282e+38  3.40282e+38           \n"
     ]
    }
   ],
   "source": [
    "print(ui.get_source())"
   ]
  },
  {
   "cell_type": "code",
   "execution_count": 24,
   "metadata": {},
   "outputs": [
    {
     "name": "stdout",
     "output_type": "stream",
     "text": [
      "WARNING: moncar is inappropriate for confidence limit estimation\n",
      "sim1.xpos lower bound:\t-0.0981127\n",
      "sim2.ypos lower bound:\t-0.0839416\n",
      "sim1.ampl lower bound:\t-3.88665\n",
      "t2a.ampl lower bound:\t-0.151269\n",
      "sim2.ampl lower bound:\t-2.38369\n",
      "t2c.ampl lower bound:\t-0.317871\n",
      "t2d.ampl lower bound:\t-0.249662\n",
      "t2b.ampl lower bound:\t-1.51234\n",
      "t2e.ampl lower bound:\t-0.595544\n",
      "sim2.xpos lower bound:\t-0.13459\n",
      "sim1.xpos upper bound:\t0.10879\n",
      "t2a.ampl upper bound:\t0.212746\n",
      "sim2.xpos upper bound:\t0.132999\n",
      "sim1.ypos lower bound:\t-0.0531587\n",
      "t2c.ampl upper bound:\t0.444402\n",
      "t2d.ampl upper bound:\t0.349612\n",
      "t2b.ampl upper bound:\t2.11195\n",
      "sim2.ampl upper bound:\t2.83457\n",
      "sim1.ampl upper bound:\t4.58552\n",
      "t2e.ampl upper bound:\t0.83167\n",
      "sim2.ypos upper bound:\t0.0891906\n",
      "sim1.ypos upper bound:\t0.0546585\n",
      "Datasets              = 1, 2, 3, 4, 5, 6\n",
      "Confidence Method     = confidence\n",
      "Iterative Fit Method  = None\n",
      "Fitting Method        = moncar\n",
      "Statistic             = cstat\n",
      "confidence 1-sigma (68.2689%) bounds:\n",
      "   Param            Best-Fit  Lower Bound  Upper Bound\n",
      "   -----            --------  -----------  -----------\n",
      "   sim1.xpos         4445.33   -0.0981127      0.10879\n",
      "   sim1.ypos         4191.35   -0.0531587    0.0546585\n",
      "   sim1.ampl          16.961     -3.88665      4.58552\n",
      "   sim2.xpos         4441.58     -0.13459     0.132999\n",
      "   sim2.ypos         4189.67   -0.0839416    0.0891906\n",
      "   sim2.ampl         10.2582     -2.38369      2.83457\n",
      "   t2a.ampl         0.532868    -0.151269     0.212746\n",
      "   t2b.ampl          7.01304     -1.51234      2.11195\n",
      "   t2c.ampl          1.31661    -0.317871     0.444402\n",
      "   t2d.ampl         0.994674    -0.249662     0.349612\n",
      "   t2e.ampl          2.63492    -0.595544      0.83167\n"
     ]
    }
   ],
   "source": [
    "# We now run 'conf' to find the errors\n",
    "ui.conf()\n",
    "#cvmat = ui.covar()"
   ]
  },
  {
   "cell_type": "code",
   "execution_count": 25,
   "metadata": {},
   "outputs": [
    {
     "data": {
      "text/plain": [
       "array([0.10878977, 0.05465853, 4.5855241 , 0.13299906, 0.08919059,\n",
       "       2.83457129, 0.21274554, 2.11195085, 0.44440245, 0.34961175,\n",
       "       0.83166978])"
      ]
     },
     "execution_count": 25,
     "metadata": {},
     "output_type": "execute_result"
    }
   ],
   "source": [
    "# Get the maxima of each parameter \n",
    "conf_err = np.array(ui.get_conf_results().parmaxes)\n",
    "conf_err"
   ]
  },
  {
   "cell_type": "code",
   "execution_count": 26,
   "metadata": {},
   "outputs": [],
   "source": [
    "# We define the covar matrix with the erros from covar as diagonals\n",
    "cvmat = np.diag(conf_err*conf_err)"
   ]
  },
  {
   "cell_type": "code",
   "execution_count": 27,
   "metadata": {},
   "outputs": [
    {
     "name": "stdout",
     "output_type": "stream",
     "text": [
      "Using Priors:\n",
      "sim1.xpos: <function flat at 0x7fd61c6293b0>\n",
      "sim1.ypos: <function flat at 0x7fd61c6293b0>\n",
      "sim1.ampl: <function flat at 0x7fd61c6293b0>\n",
      "sim2.xpos: <function flat at 0x7fd61c6293b0>\n",
      "sim2.ypos: <function flat at 0x7fd61c6293b0>\n",
      "sim2.ampl: <function flat at 0x7fd61c6293b0>\n",
      "t2a.ampl: <function flat at 0x7fd61c6293b0>\n",
      "t2b.ampl: <function flat at 0x7fd61c6293b0>\n",
      "t2c.ampl: <function flat at 0x7fd61c6293b0>\n",
      "t2d.ampl: <function flat at 0x7fd61c6293b0>\n",
      "t2e.ampl: <function flat at 0x7fd61c6293b0>\n"
     ]
    }
   ],
   "source": [
    "# Now we run MCMCM\n",
    "draws = ui.get_draws(niter=2000, covar_matrix=cvmat)"
   ]
  },
  {
   "cell_type": "code",
   "execution_count": 28,
   "metadata": {},
   "outputs": [],
   "source": [
    "# Estimate acceptance rate\n",
    "svals, accept, pvals = draws"
   ]
  },
  {
   "cell_type": "code",
   "execution_count": 29,
   "metadata": {},
   "outputs": [
    {
     "data": {
      "text/plain": [
       "[<matplotlib.lines.Line2D at 0x7fd620554a50>]"
      ]
     },
     "execution_count": 29,
     "metadata": {},
     "output_type": "execute_result"
    },
    {
     "data": {
      "image/png": "[encoded data removed]",
      "text/plain": [
       "<Figure size 432x288 with 1 Axes>"
      ]
     },
     "metadata": {
      "needs_background": "light"
     },
     "output_type": "display_data"
    }
   ],
   "source": [
    "plt.plot(pvals[3, :])"
   ]
  },
  {
   "cell_type": "code",
   "execution_count": 32,
   "metadata": {},
   "outputs": [
    {
     "data": {
      "text/plain": [
       "Text(0, 0.5, 'amplitude')"
      ]
     },
     "execution_count": 32,
     "metadata": {},
     "output_type": "execute_result"
    },
    {
     "data": {
      "image/png": "[encoded data removed]",
      "text/plain": [
       "<Figure size 1080x360 with 3 Axes>"
      ]
     },
     "metadata": {
      "needs_background": "light"
     },
     "output_type": "display_data"
    }
   ],
   "source": [
    "# Now let us plot the traces\n",
    "\n",
    "plt.subplots(1,3,figsize=(15,5))\n",
    "plt.subplot(1,3,1)\n",
    "plt.plot(pvals[0, :])\n",
    "plt.xlabel('Iteration')\n",
    "plt.ylabel('xpos')\n",
    "plt.subplot(1,3,2)\n",
    "plt.plot(pvals[1, :])\n",
    "plt.xlabel('Iteration')\n",
    "plt.ylabel('ypos')\n",
    "plt.subplot(1,3,3)\n",
    "plt.plot(pvals[2, :])\n",
    "plt.xlabel('Iteration')\n",
    "plt.ylabel('amplitude')\n"
   ]
  },
  {
   "cell_type": "code",
   "execution_count": 46,
   "metadata": {},
   "outputs": [
    {
     "data": {
      "text/plain": [
       "Text(0, 0.5, ' ')"
      ]
     },
     "execution_count": 46,
     "metadata": {},
     "output_type": "execute_result"
    },
    {
     "data": {
      "image/png": "[encoded data removed]",
      "text/plain": [
       "<Figure size 1080x360 with 3 Axes>"
      ]
     },
     "metadata": {
      "needs_background": "light"
     },
     "output_type": "display_data"
    }
   ],
   "source": [
    "plt.subplots(1,3,figsize=(15,5))\n",
    "plt.subplot(1,3,1)\n",
    "plt.hist(pvals[0, :])\n",
    "plt.xlabel('xpos')\n",
    "plt.ylabel(' ')\n",
    "plt.subplot(1,3,2)\n",
    "plt.hist(pvals[1, :])\n",
    "plt.xlabel('ypos')\n",
    "plt.ylabel(' ')\n",
    "plt.subplot(1,3,3)\n",
    "plt.hist(pvals[2, :])\n",
    "plt.xlabel('amplitude')\n",
    "plt.ylabel(' ')\n",
    "\n",
    "#ui.plot_pdf(pvals[0, :], name=r'xpos')\n",
    "#ui.plot_pdf(pvals[1, :], name=r'ypos')"
   ]
  },
  {
   "cell_type": "code",
   "execution_count": 47,
   "metadata": {},
   "outputs": [
    {
     "name": "stdout",
     "output_type": "stream",
     "text": [
      "(tablemodel.t1 + (psfmodel.psf0(sigmagauss2d.sim1) * tablemodel.t2))\n",
      "   Param        Type          Value          Min          Max      Units\n",
      "   -----        ----          -----          ---          ---      -----\n",
      "   t1.ampl      frozen      1.32258 -3.40282e+38  3.40282e+38           \n",
      "   sim1.sigma_a frozen          0.5  1.17549e-38  3.40282e+38           \n",
      "   sim1.sigma_b frozen          0.5  1.17549e-38  3.40282e+38           \n",
      "   sim1.xpos    thawed       4258.4      4257.44      4261.44           \n",
      "   sim1.ypos    thawed      3843.28       3839.7       3843.7           \n",
      "   sim1.theta   frozen            0     -6.28319      6.28319    radians\n",
      "   sim1.ampl    thawed      7.47027        0.003         3000           \n",
      "   t2.ampl      frozen            1 -3.40282e+38  3.40282e+38           \n"
     ]
    }
   ],
   "source": [
    "print(ui.get_source())"
   ]
  },
  {
   "cell_type": "code",
   "execution_count": 36,
   "metadata": {},
   "outputs": [],
   "source": [
    "# Define grid to evaluate fitted model\n",
    "yg, xg = np.mgrid[3318-(60/2):3318+(60/2), 3399-(60/2):3399+(60/2)]\n",
    "xg1d, yg1d = xg.flatten(), yg.flatten()"
   ]
  },
  {
   "cell_type": "code",
   "execution_count": 37,
   "metadata": {},
   "outputs": [],
   "source": [
    "# Evaluate differents steps of the model\n",
    "mdl = sim1 + sim2\n",
    "mdl1 = psf2(sim1 + sim2)\n",
    "mdl2 = psf2(sim1 + sim2)*t2b\n",
    "mdl3 = t1b+psf2(sim1 + sim2)*t2b\n",
    "m = mdl(xg1d, yg1d).reshape(xg.shape)\n",
    "m1 = mdl1(xg1d, yg1d).reshape(xg.shape)\n",
    "m2  = mdl2(xg1d, yg1d).reshape(xg.shape)\n",
    "m3  = mdl3(xg1d, yg1d).reshape(xg.shape)"
   ]
  },
  {
   "cell_type": "code",
   "execution_count": 38,
   "metadata": {},
   "outputs": [
    {
     "data": {
      "text/plain": [
       "Text(0.5, 1.0, 'Residual')"
      ]
     },
     "execution_count": 38,
     "metadata": {},
     "output_type": "execute_result"
    },
    {
     "data": {
      "image/png": "[encoded data removed]",
      "text/plain": [
       "<Figure size 720x1584 with 3 Axes>"
      ]
     },
     "metadata": {
      "needs_background": "light"
     },
     "output_type": "display_data"
    }
   ],
   "source": [
    "# Visualize the final fitted model\n",
    "fig, (ax1, ax2, ax3) =  plt.subplots(figsize=(10,22), ncols=3)\n",
    "pos1 = ax1.imshow(hdul[0].data)\n",
    "#fig.colorbar(pos1, ax=ax1)\n",
    "ax1.set_title('Data')\n",
    "pos2 = ax2.imshow(m3)\n",
    "#fig.colorbar(pos2, ax=ax2)\n",
    "ax2.set_title('Model')\n",
    "pos3 = ax3.imshow(hdul[0].data-m3)\n",
    "#fig.colorbar(pos3, ax=ax3)\n",
    "ax3.set_title('Residual')\n",
    "#plt.savefig('fit_m_a.ps',dpi=300,bbox_inches='tight')"
   ]
  },
  {
   "cell_type": "code",
   "execution_count": 51,
   "metadata": {},
   "outputs": [
    {
     "name": "stdout",
     "output_type": "stream",
     "text": [
      "There are  73  counts in the data\n",
      "There are  109.91794659110673  counts in the fitted model\n"
     ]
    }
   ],
   "source": [
    "# Print total counts in data image and fitted model\n",
    "print('There are ',np.sum(hdul[0].data),' counts in the data')\n",
    "print('There are ',np.sum(np.sum(m3[~np.isinf(m3)])),' counts in the fitted model')"
   ]
  },
  {
   "cell_type": "code",
   "execution_count": 52,
   "metadata": {},
   "outputs": [],
   "source": [
    "#heado = hdul[0].header\n",
    "#hdu = fits.PrimaryHDU(hdul[0].data-m3,header=heado)\n",
    "#hdu.writeto('/Users/juan/L3/mle/mle_data/acisfJ130510m493118_001/mef/0018/output/acisf13791_000N999_r0019b_residual.fits')\n"
   ]
  },
  {
   "cell_type": "code",
   "execution_count": 22,
   "metadata": {},
   "outputs": [],
   "source": [
    "# Freeze positions and allow elliptical model\n",
    "sim1.sigma_a.min = 0.5\n",
    "sim1.sigma_a.max = 1.5\n",
    "sim1.sigma_b.min = 0.5\n",
    "sim1.sigma_b.max = 1.5\n",
    "\n",
    "# Freeze positions and allow elliptical model\n",
    "sim2.sigma_a.min = 0.5\n",
    "sim2.sigma_a.max = 1.5\n",
    "sim2.sigma_b.min = 0.5\n",
    "sim2.sigma_b.max = 1.5\n",
    "\n",
    "\n",
    "ui.thaw(sim1.theta)\n",
    "ui.thaw(sim1.sigma_a)\n",
    "ui.thaw(sim1.sigma_b)\n",
    "ui.thaw(sim1.xpos)\n",
    "ui.thaw(sim1.ypos)\n",
    "\n",
    "ui.thaw(sim2.theta)\n",
    "ui.thaw(sim2.sigma_a)\n",
    "ui.thaw(sim2.sigma_b)\n",
    "ui.thaw(sim2.xpos)\n",
    "ui.thaw(sim2.ypos)\n",
    "\n"
   ]
  },
  {
   "cell_type": "code",
   "execution_count": 40,
   "metadata": {},
   "outputs": [
    {
     "name": "stdout",
     "output_type": "stream",
     "text": [
      "(tablemodel.t1 + (psfmodel.psf0((sigmagauss2d.sim1 + sigmagauss2d.sim2)) * tablemodel.t2))\n",
      "   Param        Type          Value          Min          Max      Units\n",
      "   -----        ----          -----          ---          ---      -----\n",
      "   t1.ampl      frozen     0.875964 -3.40282e+38  3.40282e+38           \n",
      "   sim1.sigma_a thawed          0.5          0.5          1.5           \n",
      "   sim1.sigma_b thawed          0.5          0.5          1.5           \n",
      "   sim1.xpos    thawed      4445.32      4435.55      4448.55           \n",
      "   sim1.ypos    thawed      4191.35      4184.77      4194.77           \n",
      "   sim1.theta   thawed            0     -6.28319      6.28319    radians\n",
      "   sim1.ampl    thawed      40.1439            0         3000           \n",
      "   sim2.sigma_a thawed          0.5          0.5          1.5           \n",
      "   sim2.sigma_b thawed          0.5          0.5          1.5           \n",
      "   sim2.xpos    thawed      4441.58      4435.55      4448.55           \n",
      "   sim2.ypos    thawed      4189.67      4184.77      4194.77           \n",
      "   sim2.theta   thawed            0     -6.28319      6.28319    radians\n",
      "   sim2.ampl    thawed      24.0777            0         3000           \n",
      "   t2.ampl      frozen            1 -3.40282e+38  3.40282e+38           \n"
     ]
    }
   ],
   "source": [
    "print(ui.get_source())"
   ]
  },
  {
   "cell_type": "code",
   "execution_count": 23,
   "metadata": {},
   "outputs": [
    {
     "name": "stdout",
     "output_type": "stream",
     "text": [
      "Datasets              = 1, 2, 3, 4, 5, 6\n",
      "Method                = moncar\n",
      "Statistic             = cstat\n",
      "Initial fit statistic = 861.22\n",
      "Final fit statistic   = 861.22 at function evaluation 3316\n",
      "Data points           = 678\n",
      "Degrees of freedom    = 666\n",
      "Probability [Q-value] = 4.35692e-07\n",
      "Reduced statistic     = 1.29312\n",
      "Change in statistic   = 0\n",
      "   sim1.sigma_a   0.5         \n",
      "   sim1.sigma_b   0.5         \n",
      "   sim1.xpos      4445.32     \n",
      "   sim1.ypos      4191.35     \n",
      "   sim1.theta     0           \n",
      "   sim1.ampl      40.1439     \n",
      "   sim2.sigma_a   0.5         \n",
      "   sim2.sigma_b   0.5         \n",
      "   sim2.xpos      4441.58     \n",
      "   sim2.ypos      4189.67     \n",
      "   sim2.theta     0           \n",
      "   sim2.ampl      24.0777     \n",
      "WARNING: parameter value sim1.sigma_a is at its minimum boundary 0.5\n",
      "WARNING: parameter value sim1.sigma_b is at its minimum boundary 0.5\n",
      "WARNING: parameter value sim2.sigma_a is at its minimum boundary 0.5\n",
      "WARNING: parameter value sim2.sigma_b is at its minimum boundary 0.5\n"
     ]
    }
   ],
   "source": [
    "# Fold PSF and fit. \n",
    "psf0.fold(ui.get_data(1))\n",
    "ui.fit()"
   ]
  },
  {
   "cell_type": "code",
   "execution_count": 24,
   "metadata": {},
   "outputs": [
    {
     "data": {
      "text/plain": [
       "861.2201762482695"
      ]
     },
     "execution_count": 24,
     "metadata": {},
     "output_type": "execute_result"
    }
   ],
   "source": [
    "# Calculate the statistic now, with this model:\n",
    "ui.calc_stat()"
   ]
  },
  {
   "cell_type": "code",
   "execution_count": 25,
   "metadata": {},
   "outputs": [],
   "source": [
    "# Now set the amplitud of each source to 0, and estimate the likelihood. Fitst source 1:\n",
    "sim1.ampl.min = 0\n",
    "sim1.ampl = 0"
   ]
  },
  {
   "cell_type": "code",
   "execution_count": 26,
   "metadata": {},
   "outputs": [
    {
     "data": {
      "text/plain": [
       "2320.313876191206"
      ]
     },
     "execution_count": 26,
     "metadata": {},
     "output_type": "execute_result"
    }
   ],
   "source": [
    "# Calculate the statistic now, with this model:\n",
    "ui.calc_stat()"
   ]
  },
  {
   "cell_type": "code",
   "execution_count": 27,
   "metadata": {},
   "outputs": [],
   "source": [
    "# Now the other source\n",
    "sim1.ampl = 40.1439\n",
    "sim2.ampl.min = 0\n",
    "sim2.ampl = 0"
   ]
  },
  {
   "cell_type": "code",
   "execution_count": 28,
   "metadata": {},
   "outputs": [
    {
     "data": {
      "text/plain": [
       "1732.9917700709423"
      ]
     },
     "execution_count": 28,
     "metadata": {},
     "output_type": "execute_result"
    }
   ],
   "source": [
    "# Calculate the statistic now, with this model:\n",
    "ui.calc_stat()"
   ]
  },
  {
   "cell_type": "code",
   "execution_count": 29,
   "metadata": {},
   "outputs": [],
   "source": [
    "# Back to normal\n",
    "sim2.ampl = 24.0777 "
   ]
  },
  {
   "cell_type": "code",
   "execution_count": 30,
   "metadata": {},
   "outputs": [
    {
     "data": {
      "text/plain": [
       "861.220176248728"
      ]
     },
     "execution_count": 30,
     "metadata": {},
     "output_type": "execute_result"
    }
   ],
   "source": [
    "# Calculate the statistic now, with this model:\n",
    "ui.calc_stat()"
   ]
  },
  {
   "cell_type": "code",
   "execution_count": 57,
   "metadata": {},
   "outputs": [
    {
     "name": "stdout",
     "output_type": "stream",
     "text": [
      "WARNING: moncar is inappropriate for confidence limit estimation\n",
      "sim1.sigma_b lower bound:\t-----\n",
      "sim1.sigma_a lower bound:\t-----\n",
      "sim1.theta lower bound:\t-----\n",
      "sim1.theta upper bound:\t-----\n",
      "sim1.sigma_a upper bound:\t1.4093\n",
      "sim1.sigma_b upper bound:\t1.4089\n",
      "sim1.ampl lower bound:\t-5.7147\n",
      "sim1.ampl upper bound:\t2.08631\n",
      "Dataset               = 1\n",
      "Confidence Method     = confidence\n",
      "Iterative Fit Method  = None\n",
      "Fitting Method        = moncar\n",
      "Statistic             = cstat\n",
      "confidence 1-sigma (68.2689%) bounds:\n",
      "   Param            Best-Fit  Lower Bound  Upper Bound\n",
      "   -----            --------  -----------  -----------\n",
      "   sim1.sigma_a          0.5        -----       1.4093\n",
      "   sim1.sigma_b          0.5        -----       1.4089\n",
      "   sim1.theta              0        -----        -----\n",
      "   sim1.ampl         7.47027      -5.7147      2.08631\n"
     ]
    }
   ],
   "source": [
    "# We now run 'conf' to find the errors\n",
    "#cvmat = ui.covar()\n",
    "ui.conf()"
   ]
  },
  {
   "cell_type": "code",
   "execution_count": 39,
   "metadata": {},
   "outputs": [],
   "source": [
    "# Now we run MCMCM\n",
    "#draws = ui.get_draws(niter=20000, covar_matrix=cvmat)"
   ]
  },
  {
   "cell_type": "code",
   "execution_count": 59,
   "metadata": {},
   "outputs": [],
   "source": [
    "# Estimate acceptance rate\n",
    "svals, accept, pvals = draws"
   ]
  },
  {
   "cell_type": "code",
   "execution_count": 60,
   "metadata": {},
   "outputs": [
    {
     "data": {
      "image/png": "[encoded data removed]",
      "text/plain": [
       "<Figure size 720x720 with 4 Axes>"
      ]
     },
     "metadata": {
      "needs_background": "light"
     },
     "output_type": "display_data"
    }
   ],
   "source": [
    "import matplotlib.pyplot as plt\n",
    "# Now let us plot the traces\n",
    "plt.subplots(2,2,figsize=(10,10))\n",
    "plt.subplot(2,2,1)\n",
    "plt.plot(pvals[0, :])\n",
    "plt.xlabel('Iteration')\n",
    "plt.ylabel('sigma_a')\n",
    "plt.subplot(2,2,2)\n",
    "plt.plot(pvals[1, :])\n",
    "plt.xlabel('Iteration')\n",
    "plt.ylabel('sigma_b')\n",
    "plt.subplot(2,2,3)\n",
    "plt.plot(pvals[2, :])\n",
    "plt.xlabel('Iteration')\n",
    "plt.ylabel('theta')\n",
    "plt.subplot(2,2,4)\n",
    "plt.plot(pvals[3, :])\n",
    "plt.xlabel('Iteration')\n",
    "plt.ylabel('ampl')\n",
    "plt.savefig('traces_m_ext_a.ps',dpi=300,bbox_inches='tight')"
   ]
  },
  {
   "cell_type": "code",
   "execution_count": 61,
   "metadata": {},
   "outputs": [
    {
     "data": {
      "text/plain": [
       "Text(0, 0.5, ' ')"
      ]
     },
     "execution_count": 61,
     "metadata": {},
     "output_type": "execute_result"
    },
    {
     "data": {
      "image/png": "[encoded data removed]",
      "text/plain": [
       "<Figure size 720x720 with 4 Axes>"
      ]
     },
     "metadata": {
      "needs_background": "light"
     },
     "output_type": "display_data"
    }
   ],
   "source": [
    "plt.subplots(2,2,figsize=(10,10))\n",
    "plt.subplot(2,2,1)\n",
    "plt.hist(pvals[0, :])\n",
    "plt.xlabel('sigma_a')\n",
    "plt.ylabel(' ')\n",
    "plt.subplot(2,2,2)\n",
    "plt.hist(pvals[1, :])\n",
    "plt.xlabel('sigma_b')\n",
    "plt.ylabel(' ')\n",
    "plt.subplot(2,2,3)\n",
    "plt.hist(pvals[2, :])\n",
    "plt.xlabel('theta')\n",
    "plt.ylabel(' ')\n",
    "plt.subplot(2,2,4)\n",
    "plt.hist(pvals[3, :])\n",
    "plt.xlabel('ampl')\n",
    "plt.ylabel(' ')"
   ]
  },
  {
   "cell_type": "code",
   "execution_count": 41,
   "metadata": {},
   "outputs": [],
   "source": [
    "# Define grid to evaluate fitted model\n",
    "yg, xg = np.mgrid[3318-(60/2):3318+(60/2), 3399-(60/2):3399+(60/2)]\n",
    "xg1d, yg1d = xg.flatten(), yg.flatten()"
   ]
  },
  {
   "cell_type": "code",
   "execution_count": 42,
   "metadata": {},
   "outputs": [],
   "source": [
    "# Evaluate differents steps of the model\n",
    "mdl = sim1 + sim2\n",
    "mdl1 = psf2(sim1 + sim2)\n",
    "mdl2 = psf2(sim1 + sim2)*t2b\n",
    "mdl3 = t1b+psf2(sim1 + sim2)*t2b\n",
    "m = mdl(xg1d, yg1d).reshape(xg.shape)\n",
    "m1 = mdl1(xg1d, yg1d).reshape(xg.shape)\n",
    "m2  = mdl2(xg1d, yg1d).reshape(xg.shape)\n",
    "m3  = mdl3(xg1d, yg1d).reshape(xg.shape)"
   ]
  },
  {
   "cell_type": "code",
   "execution_count": 43,
   "metadata": {},
   "outputs": [
    {
     "data": {
      "text/plain": [
       "Text(0.5, 1.0, 'Residual')"
      ]
     },
     "execution_count": 43,
     "metadata": {},
     "output_type": "execute_result"
    },
    {
     "data": {
      "image/png": "[encoded data removed]",
      "text/plain": [
       "<Figure size 720x1584 with 3 Axes>"
      ]
     },
     "metadata": {
      "needs_background": "light"
     },
     "output_type": "display_data"
    }
   ],
   "source": [
    "# Visualize the final fitted model\n",
    "fig, (ax1, ax2, ax3) =  plt.subplots(figsize=(10,22), ncols=3)\n",
    "pos1 = ax1.imshow(hdul[0].data)\n",
    "#fig.colorbar(pos1, ax=ax1)\n",
    "ax1.set_title('Data')\n",
    "pos2 = ax2.imshow(m3)\n",
    "#fig.colorbar(pos2, ax=ax2)\n",
    "ax2.set_title('Model')\n",
    "pos3 = ax3.imshow(hdul[0].data-m3)\n",
    "#fig.colorbar(pos3, ax=ax3)\n",
    "ax3.set_title('Residual')\n",
    "#plt.savefig('fit_m_ext_a.ps',dpi=300,bbox_inches='tight')"
   ]
  },
  {
   "cell_type": "code",
   "execution_count": 65,
   "metadata": {},
   "outputs": [
    {
     "name": "stdout",
     "output_type": "stream",
     "text": [
      "There are  8  counts in the data\n",
      "There are  8.64878280723851  counts in the fitted model\n"
     ]
    }
   ],
   "source": [
    "# Print total counts in data image and fitted model\n",
    "print('There are ',np.sum(hdul[0].data),' counts in the data')\n",
    "print('There are ',np.sum(np.sum(m3[~np.isinf(m3)])),' counts in the fitted model')"
   ]
  },
  {
   "cell_type": "code",
   "execution_count": 66,
   "metadata": {},
   "outputs": [
    {
     "name": "stdout",
     "output_type": "stream",
     "text": [
      "(tablemodel.t1 + (psfmodel.psf0(sigmagauss2d.sim1) * tablemodel.t2))\n",
      "   Param        Type          Value          Min          Max      Units\n",
      "   -----        ----          -----          ---          ---      -----\n",
      "   t1.ampl      frozen         -0.2 -3.40282e+38  3.40282e+38           \n",
      "   sim1.sigma_a thawed          0.5          0.5          1.5           \n",
      "   sim1.sigma_b thawed     0.850502          0.5          1.5           \n",
      "   sim1.xpos    frozen      4222.04      4219.08      4222.58           \n",
      "   sim1.ypos    frozen      3986.17      3983.06      3986.56           \n",
      "   sim1.theta   thawed    -0.348595     -6.28319      6.28319    radians\n",
      "   sim1.ampl    thawed     0.894452        0.001         1000           \n",
      "   t2.ampl      frozen            1 -3.40282e+38  3.40282e+38           \n"
     ]
    }
   ],
   "source": [
    "print(ui.get_source())"
   ]
  },
  {
   "cell_type": "code",
   "execution_count": null,
   "metadata": {},
   "outputs": [],
   "source": []
  }
 ],
 "metadata": {
  "kernelspec": {
   "display_name": "Python 3",
   "language": "python",
   "name": "python3"
  },
  "language_info": {
   "codemirror_mode": {
    "name": "ipython",
    "version": 3
   },
   "file_extension": ".py",
   "mimetype": "text/x-python",
   "name": "python",
   "nbconvert_exporter": "python",
   "pygments_lexer": "ipython3",
   "version": "3.7.7"
  }
 },
 "nbformat": 4,
 "nbformat_minor": 4
}
