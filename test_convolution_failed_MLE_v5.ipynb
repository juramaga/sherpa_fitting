{
 "cells": [
  {
   "cell_type": "markdown",
   "metadata": {},
   "source": [
    "# A Pymc3 Prototype: Fitting 2D Poisson Images with Arbitrary Model Binning and PSF convolution\n",
    "This propotype uses the MCMC package Pymc3 to fit images of sources that are best represented by a Poisson model. Pymc3 has several advantages with respect to existing MCMC approaches: \n",
    "\n",
    "* It allows for a straightforward definitions of priors with pre-computed probability distributions.\n",
    "* Optimization is also straightforward, and can be donde with several methods. Pymc3 uses by default the BFGS algorithm for optimization, but other options are Powell, Newton, etc.\n",
    "* Sampling is extremely flexible, and the user does not need to think a lot about fine-tuning the parameters. For example, the sampling method used is chosen automatically by Pymc3 according to the distribution to sample, as well as the proposal distribution, etc.\n",
    "* Pymc3 is written for tensors and allows automatic differentiation, which means that if the target distribution can be expressed as a tensor, Pymc3 can use gradient-based methods for samplong, which are extremely efficient (NUTS, Hamiltonian MC, etc)\n",
    "\n",
    "## Fitting Chandra images\n",
    "The example below shows how a fit for a particularly difficult source from the CSC2 catalog (acisf02594_001N999_r0005b), that has only a few counts. The goal is to derive posterior probability distributions for the parameters of a Gaussian model that has been previously convolved with the corresponding PSF, and to which a background model has been added. The model and the data do not need to be defined in the same grid, but the model and the PSF should be, in order to perform the convolution."
   ]
  },
  {
   "cell_type": "code",
   "execution_count": 1,
   "metadata": {},
   "outputs": [
    {
     "name": "stdout",
     "output_type": "stream",
     "text": [
      "Populating the interactive namespace from numpy and matplotlib\n"
     ]
    }
   ],
   "source": [
    "%pylab inline\n",
    "\n",
    "import numpy as np\n",
    "import matplotlib.pyplot as plt\n",
    "import astropy\n",
    "from astropy.io import fits, ascii\n",
    "from astropy.table import Table, Column\n",
    "import scipy\n",
    "import pickle\n",
    "from scipy.stats import poisson\n",
    "from scipy.misc import factorial\n",
    "import pymc3 as pm\n",
    "from theano.compile.ops import as_op\n",
    "import theano.tensor as T\n",
    "from astropy.convolution import convolve, convolve_fft, Gaussian2DKernel, Tophat2DKernel\n",
    "from astropy.modeling.models import Gaussian2D\n",
    "from astropy.convolution import CustomKernel"
   ]
  },
  {
   "cell_type": "markdown",
   "metadata": {},
   "source": [
    "### Binning\n",
    "Below are two possible approaches for rebinning of the model grid. The idea is that the model can be defined in any arbitrary grid (supposedly the grid tha matches the resolution of the PSF model), but in order to calculate a statistic for the fit, it has to be compared with the data at the same resolution as the data. The first function (*rebin_int*) bins the model grid by summing an integer number of pixels. The second fucntion (*rebin_flux*) bins the data to mach a specific new size of the image (in pixels), while conserving the total flux."
   ]
  },
  {
   "cell_type": "code",
   "execution_count": 2,
   "metadata": {},
   "outputs": [],
   "source": [
    "def rebin_int(array,factorx,factory):\n",
    "    xedge = np.shape(array)[0]%factorx\n",
    "    yedge = np.shape(array)[1]%factory\n",
    "    array_binned1 = array[xedge:,yedge:]\n",
    "\n",
    "    binim = np.reshape(array_binned1,\n",
    "                       (np.shape(array_binned1)[0]//factorx,factorx,np.shape(array_binned1)[1]//factory,factory))\n",
    "    binim = np.sum(binim,axis=3)\n",
    "    binim = np.sum(binim,axis=1)\n",
    "\n",
    "    return binim"
   ]
  },
  {
   "cell_type": "markdown",
   "metadata": {},
   "source": [
    "### PSF\n",
    "The model of the PSF for this particular observation. The PSF is different for each observation. The resolution of the PSF sets the maximum resolution at which we can still get information from the model, and thus the model should be binned at the PSF resolution (also, because we need to convolve the model with the PSF). Below we read and plot the PSF."
   ]
  },
  {
   "cell_type": "code",
   "execution_count": 3,
   "metadata": {},
   "outputs": [],
   "source": [
    "# Create a Gaussian source\n",
    "kernel = Gaussian2D(1, 22.0, 22.0, 6, 6)\n",
    "\n",
    "x1 = np.arange(0,45)\n",
    "y1 = np.arange(0,45)\n",
    "x1, y1 = np.meshgrid(x1, y1)\n",
    "psf_data = kernel(x1, y1)"
   ]
  },
  {
   "cell_type": "code",
   "execution_count": 4,
   "metadata": {},
   "outputs": [
    {
     "name": "stdout",
     "output_type": "stream",
     "text": [
      "(45, 45)\n",
      "(45, 45)\n"
     ]
    },
    {
     "data": {
      "image/png": "[encoded data removed]",
      "text/plain": [
       "<Figure size 432x288 with 1 Axes>"
      ]
     },
     "metadata": {
      "needs_background": "light"
     },
     "output_type": "display_data"
    }
   ],
   "source": [
    "print(np.shape(psf_data))\n",
    "plt.imshow(np.arcsinh(psf_data),origin='lower', cmap='viridis', \n",
    "           interpolation='nearest')\n",
    "print (np.shape(psf_data))"
   ]
  },
  {
   "cell_type": "code",
   "execution_count": 5,
   "metadata": {},
   "outputs": [],
   "source": [
    "psf_binned = rebin_int(psf_data,9,9)"
   ]
  },
  {
   "cell_type": "code",
   "execution_count": 6,
   "metadata": {},
   "outputs": [
    {
     "data": {
      "text/plain": [
       "Text(0.5, 1.0, 'Degraded')"
      ]
     },
     "execution_count": 6,
     "metadata": {},
     "output_type": "execute_result"
    },
    {
     "data": {
      "image/png": "[encoded data removed]",
      "text/plain": [
       "<Figure size 720x360 with 4 Axes>"
      ]
     },
     "metadata": {
      "needs_background": "light"
     },
     "output_type": "display_data"
    }
   ],
   "source": [
    "plt.subplots(1,2,figsize=(10,5))\n",
    "plt.subplot(1,2,1)\n",
    "im = plt.imshow(np.arcsinh(psf_data),origin='lower', cmap='viridis', \n",
    "           interpolation='nearest')\n",
    "cb = plt.colorbar(im)\n",
    "plt.title('Original')\n",
    "plt.subplot(1,2,2)\n",
    "im = plt.imshow(np.arcsinh(psf_binned),origin='lower', cmap='viridis', \n",
    "           interpolation='nearest')\n",
    "cb = plt.colorbar(im)\n",
    "plt.title('Degraded')"
   ]
  },
  {
   "cell_type": "markdown",
   "metadata": {},
   "source": [
    "# Source\n",
    "Below we read and plot the counts image of the obervation, and get a cutoff that more or less matches the extent of the PSF. In this particular example the PSF and the data have the same resolution, and binning is therefore not necessary, but we will play a bit later by degrading the data to a lower resolution and see how that affects the results."
   ]
  },
  {
   "cell_type": "code",
   "execution_count": 7,
   "metadata": {},
   "outputs": [],
   "source": [
    "# Create a Gaussian source\n",
    "gauss1 = Gaussian2D(10, 30.0, 30.0, 4, 4)\n",
    "\n",
    "x = np.arange(0,45)\n",
    "y = np.arange(0,45)\n",
    "x, y = np.meshgrid(x, y)\n",
    "img_src = gauss1(x, y)"
   ]
  },
  {
   "cell_type": "code",
   "execution_count": 8,
   "metadata": {},
   "outputs": [
    {
     "name": "stdout",
     "output_type": "stream",
     "text": [
      "(45, 45)\n"
     ]
    },
    {
     "data": {
      "image/png": "[encoded data removed]",
      "text/plain": [
       "<Figure size 432x288 with 1 Axes>"
      ]
     },
     "metadata": {
      "needs_background": "light"
     },
     "output_type": "display_data"
    }
   ],
   "source": [
    "plt.imshow(arcsinh(img_src),origin='lower', cmap='viridis', \n",
    "           interpolation='nearest')\n",
    "print (np.shape(img_src))"
   ]
  },
  {
   "cell_type": "markdown",
   "metadata": {},
   "source": [
    "# Data\n",
    "Now we generate the data by convolving the source with the PSF at the best possible resolution."
   ]
  },
  {
   "cell_type": "code",
   "execution_count": 9,
   "metadata": {},
   "outputs": [],
   "source": [
    "psf_kernel = CustomKernel(psf_data)\n",
    "img_data = convolve_fft(img_src, psf_kernel, normalize_kernel=True)"
   ]
  },
  {
   "cell_type": "code",
   "execution_count": 10,
   "metadata": {},
   "outputs": [
    {
     "name": "stdout",
     "output_type": "stream",
     "text": [
      "(5, 5)\n"
     ]
    }
   ],
   "source": [
    "data_binned = rebin_int(img_data,9,9)\n",
    "print (np.shape(data_binned))"
   ]
  },
  {
   "cell_type": "code",
   "execution_count": 11,
   "metadata": {},
   "outputs": [
    {
     "data": {
      "text/plain": [
       "Text(0.5, 1.0, 'Degraded')"
      ]
     },
     "execution_count": 11,
     "metadata": {},
     "output_type": "execute_result"
    },
    {
     "data": {
      "image/png": "[encoded data removed]",
      "text/plain": [
       "<Figure size 720x360 with 4 Axes>"
      ]
     },
     "metadata": {
      "needs_background": "light"
     },
     "output_type": "display_data"
    }
   ],
   "source": [
    "plt.subplots(1,2,figsize=(10,5))\n",
    "plt.subplot(1,2,1)\n",
    "im = plt.imshow(np.arcsinh(img_data),origin='lower', cmap='viridis', \n",
    "           interpolation='nearest')\n",
    "#plt.scatter([24.263523],[24.959832],marker='x',color='w',s=120)\n",
    "#plt.scatter([24.6869],[24.8930],marker='x',color='b',s=120)\n",
    "#plt.errorbar([24.263523],[24.959832], 0.46, 0.37, marker='s', ecolor='white',elinewidth=3)\n",
    "\n",
    "#plt.xlim(20,30)\n",
    "#plt.ylim(20,30)\n",
    "\n",
    "cb = plt.colorbar(im)\n",
    "plt.title('Original')\n",
    "plt.subplot(1,2,2)\n",
    "im = plt.imshow(np.arcsinh(data_binned),origin='lower', cmap='viridis', \n",
    "           interpolation='nearest')\n",
    "#plt.scatter([24.263523/2],[24.959832/2],marker='x',color='r',s=120)\n",
    "#plt.scatter([24.6869/2.],[24.8930/2.],marker='x',color='b',s=120)\n",
    "\n",
    "cb = plt.colorbar(im)\n",
    "plt.title('Degraded')"
   ]
  },
  {
   "cell_type": "code",
   "execution_count": 12,
   "metadata": {},
   "outputs": [
    {
     "name": "stdout",
     "output_type": "stream",
     "text": [
      "780.7911243893273\n"
     ]
    },
    {
     "data": {
      "image/png": "[encoded data removed]",
      "text/plain": [
       "<Figure size 432x288 with 1 Axes>"
      ]
     },
     "metadata": {
      "needs_background": "light"
     },
     "output_type": "display_data"
    }
   ],
   "source": [
    "im = plt.imshow(img_data-img_src)\n",
    "print(np.sum(np.absolute(img_data-img_src)))"
   ]
  },
  {
   "cell_type": "markdown",
   "metadata": {},
   "source": [
    "### Setting up the Pymc3 model.\n",
    "Below we set up the pymc3 model to perform Bayesian inference on the parameters of a Gaussian model. First we set up the grid and give it the right shape. We then define a pymc3 model (*source_mode*), and a function (*counts_func*) that defines a Gaussian object for the source on the defined grid, and returns the model source convolved with the PSF."
   ]
  },
  {
   "cell_type": "code",
   "execution_count": 13,
   "metadata": {},
   "outputs": [],
   "source": [
    "# Define the grid (This is the PSF grid, in which the convoluion happens)\n",
    "#np.random.seed(2)\n",
    "x0low, x0high = 0,45\n",
    "x1low, x1high = 0,45\n",
    "dx = 1\n",
    "x1, x0 = np.mgrid[x1low:x1high:dx, x0low:x0high:dx]"
   ]
  },
  {
   "cell_type": "code",
   "execution_count": 14,
   "metadata": {},
   "outputs": [
    {
     "name": "stdout",
     "output_type": "stream",
     "text": [
      "(45, 45)\n"
     ]
    }
   ],
   "source": [
    "# Convert to 1D arrays\n",
    "shape = x0.shape\n",
    "x0, x1 = x0.flatten(), x1.flatten()\n",
    "print (shape)"
   ]
  },
  {
   "cell_type": "code",
   "execution_count": 15,
   "metadata": {},
   "outputs": [],
   "source": [
    "from sherpa.models import Gauss2D\n",
    "import theano.tensor as tt\n",
    "\n",
    "# First let us define the pymc3 model\n",
    "source_model = pm.Model()\n",
    "\n",
    "# The function below takes the Gaussian parameters (and background) as inputs and returns\n",
    "# the convolved Gaussian model, rebinned to the desired size.\n",
    "@as_op(itypes=[T.dscalar, T.dscalar, T.dscalar, T.dscalar], \n",
    "       otypes=[T.dmatrix])\n",
    "\n",
    "def counts_func(fwhm, xpos, ypos, ampl):\n",
    "    truth = Gauss2D()\n",
    "    truth.ampl = ampl\n",
    "    truth.xpos, truth.ypos = xpos, ypos\n",
    "    truth.fwhm = fwhm\n",
    "    #truth.theta = theta\n",
    "    \n",
    "    #  This is where we convolve and add a Poisson background\n",
    "    kernel = CustomKernel(psf_data)\n",
    "    astropy_conv = convolve_fft(truth(x0, x1).reshape(shape), kernel, \n",
    "                                normalize_kernel=True)\n",
    "    # Now we rebin\n",
    "    model_rebin = rebin_int(astropy_conv,9,9) \n",
    "    #model_rebin = astropy_conv\n",
    "    \n",
    "    return model_rebin\n",
    "    \n",
    "# Now we set the priors for the model, and define the likelihood. We can use the Poisson \n",
    "# likelihood, or alternatively, we can use the Cash statistic, defined as the log_like \n",
    "# function.\n",
    "with source_model:\n",
    "    \n",
    "    # priors\n",
    "    BoundedNormal = pm.Bound(pm.Normal, lower=0.01, upper=200.0)\n",
    "    fwhm = BoundedNormal('fwhm', mu=5, sd=3)\n",
    "    xpos = pm.Normal('xpos', mu=30., sd=5)\n",
    "    ypos = pm.Normal('ypos', mu=30., sd=5)\n",
    "    #ellip = BoundedNormal1('ellip', mu=0.3, sd=0.3)\n",
    "    #theta = pm.Uniform('theta', lower=0.0, upper=2*np.pi)\n",
    "    ampl = BoundedNormal('ampl', mu=10.0, sd=4.0)   \n",
    "    #mu_bkg = pm.Uniform('mu_bkg', lower=0.0, upper=0.1)\n",
    "    \n",
    "    # Evaluate the model for the given parameters\n",
    "    counts = counts_func(fwhm, xpos, ypos, ampl)\n",
    "    \n",
    "    # Mean Squared Error\n",
    "    #def mse(img):    \n",
    "    #    mse = sum(np.array((counts-counts*img)*2))\n",
    "    #    return -mse\n",
    "    \n",
    "    # Cash statistic\n",
    "    def cash(img):\n",
    "        logpm = np.array(counts - img*np.log(counts))\n",
    "        return -2.0*np.sum(logpm)\n",
    "    \n",
    "    # Define the likelihood. Either a Poisson likelihood or the cash model are \n",
    "    # currently possible. The parameter mu of the Poisson distribution corresponds\n",
    "    # to the counts, and observed=img_binned indicates the data to which we are\n",
    "    # fitting the model\n",
    "    \n",
    "    likelihood = pm.DensityDist(\"likelihood\", cash, observed=data_binned)                     \n",
    "    #likelihood = pm.Poisson('likelihood', mu=counts, observed=img_binned)\n",
    "    #likelihood = pm.Poisson('likelihood', mu=counts, observed=data_binned)\n",
    "    #likelihood = pm.Normal('likelihood', mu=counts, sd=0.01, observed=data_binned)"
   ]
  },
  {
   "cell_type": "markdown",
   "metadata": {},
   "source": [
    "### Optimization and sampling\n",
    "Below we perform optimization and sampling with pymc3. The *find_MAP* function finds the maximum a posteriori estimate of the model. Its result is used as an input for the sampling function *pm.sampe*. We use the Metropolis algorithms here, but we could also do Slice Sampling, or even some gradient based methods if we can turn the Sherpa functions into tensors."
   ]
  },
  {
   "cell_type": "code",
   "execution_count": 16,
   "metadata": {},
   "outputs": [
    {
     "name": "stderr",
     "output_type": "stream",
     "text": [
      "/export/jgalarza/software/anaconda/lib/python3.6/site-packages/pymc3/tuning/starting.py:61: UserWarning: find_MAP should not be used to initialize the NUTS sampler, simply call pymc3.sample() and it will automatically initialize NUTS in a better way.\n",
      "  warnings.warn('find_MAP should not be used to initialize the NUTS sampler, simply call pymc3.sample() and it will automatically initialize NUTS in a better way.')\n",
      "Warning: gradient not available.(E.g. vars contains discrete variables). MAP estimates may not be accurate for the default parameters. Defaulting to non-gradient minimization 'Powell'.\n",
      "logp = 6,755.9: 100%|██████████| 436/436 [00:01<00:00, 224.52it/s] \n"
     ]
    },
    {
     "data": {
      "text/plain": [
       "{'fwhm_interval__': array(-3.0060628),\n",
       " 'xpos': array(29.99405331),\n",
       " 'ypos': array(29.96591386),\n",
       " 'ampl_interval__': array(-2.96183275),\n",
       " 'fwhm': array(9.44007378),\n",
       " 'ampl': array(9.84555483)}"
      ]
     },
     "execution_count": 16,
     "metadata": {},
     "output_type": "execute_result"
    }
   ],
   "source": [
    "# We can get the MAP values\n",
    "map_estimate = pm.find_MAP(model=source_model, method='powell')\n",
    "map_estimate"
   ]
  },
  {
   "cell_type": "code",
   "execution_count": 17,
   "metadata": {},
   "outputs": [
    {
     "name": "stderr",
     "output_type": "stream",
     "text": [
      "Multiprocess sampling (2 chains in 2 jobs)\n",
      "CompoundStep\n",
      ">Metropolis: [ampl]\n",
      ">Metropolis: [ypos]\n",
      ">Metropolis: [xpos]\n",
      ">Metropolis: [fwhm]\n",
      "Sampling 2 chains: 100%|██████████| 141000/141000 [31:51<00:00, 73.75draws/s] \n",
      "The estimated number of effective samples is smaller than 200 for some parameters.\n"
     ]
    }
   ],
   "source": [
    "from scipy import optimize\n",
    "with source_model:\n",
    "    #map_estimate = pm.find_MAP(fmin=scipy.optimize.fmin_powell, model=source_model)\n",
    "    step = pm.Metropolis()\n",
    "    trace = pm.sample(70000,step,map_estimate,chains=2,cores=2)"
   ]
  },
  {
   "cell_type": "code",
   "execution_count": 18,
   "metadata": {},
   "outputs": [
    {
     "data": {
      "image/png": "[encoded data removed]",
      "text/plain": [
       "<Figure size 720x720 with 8 Axes>"
      ]
     },
     "metadata": {
      "needs_background": "light"
     },
     "output_type": "display_data"
    }
   ],
   "source": [
    "# Here we plot the posteriors and the traces for each paramerters. Pymc3 runs two parallel\n",
    "# chanins, but if more cores are available, we can run as many as we like.\n",
    "fig, axs = plt.subplots(4, 2,figsize=(10,10)) # 3 RVs\n",
    "_ = pm.traceplot(trace, ax=axs)\n",
    "#fig.savefig('traces4.pdf')"
   ]
  },
  {
   "cell_type": "code",
   "execution_count": 19,
   "metadata": {},
   "outputs": [
    {
     "data": {
      "text/html": [
       "<div>\n",
       "<style scoped>\n",
       "    .dataframe tbody tr th:only-of-type {\n",
       "        vertical-align: middle;\n",
       "    }\n",
       "\n",
       "    .dataframe tbody tr th {\n",
       "        vertical-align: top;\n",
       "    }\n",
       "\n",
       "    .dataframe thead th {\n",
       "        text-align: right;\n",
       "    }\n",
       "</style>\n",
       "<table border=\"1\" class=\"dataframe\">\n",
       "  <thead>\n",
       "    <tr style=\"text-align: right;\">\n",
       "      <th></th>\n",
       "      <th>mean</th>\n",
       "      <th>sd</th>\n",
       "      <th>mc_error</th>\n",
       "      <th>hpd_2.5</th>\n",
       "      <th>hpd_97.5</th>\n",
       "      <th>n_eff</th>\n",
       "      <th>Rhat</th>\n",
       "    </tr>\n",
       "  </thead>\n",
       "  <tbody>\n",
       "    <tr>\n",
       "      <th>xpos</th>\n",
       "      <td>29.987953</td>\n",
       "      <td>0.189867</td>\n",
       "      <td>0.002860</td>\n",
       "      <td>29.621918</td>\n",
       "      <td>30.365619</td>\n",
       "      <td>5602.250556</td>\n",
       "      <td>1.000672</td>\n",
       "    </tr>\n",
       "    <tr>\n",
       "      <th>ypos</th>\n",
       "      <td>29.987452</td>\n",
       "      <td>0.190062</td>\n",
       "      <td>0.002768</td>\n",
       "      <td>29.621112</td>\n",
       "      <td>30.361854</td>\n",
       "      <td>5968.252186</td>\n",
       "      <td>1.000306</td>\n",
       "    </tr>\n",
       "    <tr>\n",
       "      <th>fwhm</th>\n",
       "      <td>9.220898</td>\n",
       "      <td>0.513837</td>\n",
       "      <td>0.033913</td>\n",
       "      <td>8.312912</td>\n",
       "      <td>10.211051</td>\n",
       "      <td>182.570909</td>\n",
       "      <td>1.012160</td>\n",
       "    </tr>\n",
       "    <tr>\n",
       "      <th>ampl</th>\n",
       "      <td>10.530624</td>\n",
       "      <td>1.329704</td>\n",
       "      <td>0.089535</td>\n",
       "      <td>8.420159</td>\n",
       "      <td>12.611351</td>\n",
       "      <td>182.738361</td>\n",
       "      <td>1.012032</td>\n",
       "    </tr>\n",
       "  </tbody>\n",
       "</table>\n",
       "</div>"
      ],
      "text/plain": [
       "           mean        sd  mc_error    hpd_2.5   hpd_97.5        n_eff  \\\n",
       "xpos  29.987953  0.189867  0.002860  29.621918  30.365619  5602.250556   \n",
       "ypos  29.987452  0.190062  0.002768  29.621112  30.361854  5968.252186   \n",
       "fwhm   9.220898  0.513837  0.033913   8.312912  10.211051   182.570909   \n",
       "ampl  10.530624  1.329704  0.089535   8.420159  12.611351   182.738361   \n",
       "\n",
       "          Rhat  \n",
       "xpos  1.000672  \n",
       "ypos  1.000306  \n",
       "fwhm  1.012160  \n",
       "ampl  1.012032  "
      ]
     },
     "execution_count": 19,
     "metadata": {},
     "output_type": "execute_result"
    }
   ],
   "source": [
    "# We can get a summary of the inferred parameters, including a convergence\n",
    "# diagnostic (rhat), whihc should be as close as possible to 1. Our chains \n",
    "# appear to have converged.\n",
    "summary = pm.stats.summary(trace)\n",
    "summary"
   ]
  },
  {
   "cell_type": "markdown",
   "metadata": {},
   "source": [
    "### Visualizing the the best-fitting model - Posterior predictive checks\n",
    "Another good way to check that we have a good fitted model is by obtaining posteriror predictives. This means that we sample parameter values from the obtained posteriors, and generate data from thos samples that should look like the actual data. Below we generate 25 of those posterior predictive images, and plot them"
   ]
  },
  {
   "cell_type": "code",
   "execution_count": null,
   "metadata": {},
   "outputs": [],
   "source": [
    "ppc = pm.sample_ppc(trace, samples=25, model=source_model)"
   ]
  },
  {
   "cell_type": "code",
   "execution_count": null,
   "metadata": {},
   "outputs": [],
   "source": [
    "plt.subplots(5,5,figsize=(20,20))\n",
    "for ind,image in enumerate(ppc['likelihood']):\n",
    "    plt.subplot(5,5,ind+1)\n",
    "    plt.imshow(ppc['likelihood'][ind])"
   ]
  },
  {
   "cell_type": "markdown",
   "metadata": {},
   "source": [
    "Alternatively, we can also take the mean from the posteriors and plot the model corresponding to it, and compare it with the real data. Below are plots of the data, the best fitting model, an a Poisson realisation of that model."
   ]
  },
  {
   "cell_type": "code",
   "execution_count": null,
   "metadata": {},
   "outputs": [],
   "source": [
    "truth = Gauss2D()\n",
    "truth.xpos, truth.ypos = summary['mean'].xpos,summary['mean'].ypos\n",
    "truth.fwhm, truth.ellip = summary['mean'].fwhm, summary['mean'].ellip\n",
    "#truth.theta, truth.ampl = summary['mean'].theta, summary['mean'].ampl\n",
    "truth.ampl = summary['mean'].ampl\n",
    "mexp = truth(x0, x1).reshape(shape)+np.random.poisson(summary['mean'].mu_bkg,shape)\n"
   ]
  },
  {
   "cell_type": "code",
   "execution_count": null,
   "metadata": {},
   "outputs": [],
   "source": [
    "kernel = CustomKernel(psf_data)\n",
    "conv_model = convolve_fft(mexp, kernel, normalize_kernel=True)\n",
    "#msim = np.random.poisson(conv_model)\n",
    "msim=conv_model\n",
    "\n",
    "# Plot\n",
    "plt.subplots(1,3,figsize=(20,5))\n",
    "plt.subplot(1,3,1)\n",
    "im = plt.imshow(np.arcsinh(data_binned), origin='lower', cmap='viridis', \n",
    "           extent=(x0low, x0high, x1low, x1high), interpolation='nearest', aspect='auto')\n",
    "cb = plt.colorbar(im)\n",
    "#plt.scatter([7.772044+0.5],[7.967980+0.5],marker='x',color='r')\n",
    "plt.title('Data image')\n",
    "plt.subplot(1,3,2)\n",
    "im = plt.imshow(np.arcsinh(conv_model), origin='lower', cmap='viridis', \n",
    "           extent=(x0low, x0high, x1low, x1high), interpolation='nearest', aspect='auto')\n",
    "cb = plt.colorbar(im)\n",
    "plt.title('Model image')\n",
    "plt.subplot(1,3,3)\n",
    "im = plt.imshow(np.arcsinh(msim), origin='lower', cmap='viridis', \n",
    "           extent=(x0low, x0high, x1low, x1high), interpolation='nearest', aspect='auto')\n",
    "cb = plt.colorbar(im)\n",
    "plt.title('Model realisation')\n",
    "#plt.savefig('PG1634_m6.png')"
   ]
  },
  {
   "cell_type": "markdown",
   "metadata": {},
   "source": [
    "### Lower resolution data\n",
    "We now degrade the data to have a lower resolution and attempt the fit again to see the effect on the derived parameters"
   ]
  },
  {
   "cell_type": "code",
   "execution_count": null,
   "metadata": {},
   "outputs": [],
   "source": [
    "img_binned = rebin_flux(img_data,(10,10))"
   ]
  },
  {
   "cell_type": "code",
   "execution_count": null,
   "metadata": {},
   "outputs": [],
   "source": [
    "plt.subplots(1,2,figsize=(10,5))\n",
    "plt.subplot(1,2,1)\n",
    "im = plt.imshow(img_binned1,origin='lower', cmap='viridis', \n",
    "           interpolation='nearest')\n",
    "cb = plt.colorbar(im)\n",
    "plt.title('Original')\n",
    "plt.subplot(1,2,2)\n",
    "im = plt.imshow(img_binned,origin='lower', cmap='viridis', \n",
    "           interpolation='nearest')\n",
    "cb = plt.colorbar(im)\n",
    "plt.title('Degraded')"
   ]
  },
  {
   "cell_type": "markdown",
   "metadata": {},
   "source": [
    "We use the same model, but make sure to use the proper binnig for the model. The model is still evaluated in the \"high resolution\" grid, and is rebinned only afterwards for comparison."
   ]
  },
  {
   "cell_type": "code",
   "execution_count": null,
   "metadata": {},
   "outputs": [],
   "source": [
    "from sherpa.models import Gauss2D\n",
    "import theano.tensor as tt\n",
    "\n",
    "# First let us define the pymc3 model\n",
    "source_model = pm.Model()\n",
    "\n",
    "# The function below takes the Gaussian parameters (and background) as inputs and returns\n",
    "# the convolved Gaussian model, rebinned to the desired size.\n",
    "@as_op(itypes=[T.dscalar, T.dscalar, T.dscalar, T.dscalar, T.dscalar, T.dscalar,  T.dscalar], otypes=[T.dmatrix])\n",
    "\n",
    "def counts_func(fwhm, xpos, ypos, ellip, theta, ampl, mu_bkg):\n",
    "    truth = Gauss2D()\n",
    "    truth.ampl = ampl\n",
    "    truth.xpos, truth.ypos = xpos, ypos\n",
    "    truth.fwhm, truth.ellip = fwhm, ellip\n",
    "    truth.theta = theta\n",
    "    kernel = CustomKernel(psf_data)\n",
    "    astropy_conv = convolve_fft(truth(x0, x1).reshape(shape)+mu_bkg*np.ones(shape), kernel, normalize_kernel=True)\n",
    "    model_rebin = rebin_flux(astropy_conv,(10,10)) \n",
    "    \n",
    "    return model_rebin\n",
    "    \n",
    "# Now we set the priors for the model, and define the likelihood. We can use the Poisson \n",
    "# likelihood, or alternatively, we can use the Cash statistic, defined as the log_like \n",
    "# function.\n",
    "with source_model:\n",
    "    \n",
    "    # priors\n",
    "    BoundedNormal = pm.Bound(pm.Normal, lower=0.0, upper=10.0)\n",
    "    BoundedNormal1 = pm.Bound(pm.Normal, lower=0.0, upper=0.99)\n",
    "    fwhm = BoundedNormal('fwhm', mu=2.1, sd=1.5)\n",
    "    xpos = pm.Normal('xpos', mu=10.0, sd=3.0)\n",
    "    ypos = pm.Normal('ypos', mu=10.0, sd=3.0)\n",
    "    ellip = BoundedNormal1('ellip', mu=0.3, sd=0.3)\n",
    "    theta = pm.Uniform('theta', lower=0.0, upper=2*np.pi)\n",
    "    ampl = BoundedNormal('ampl', mu=0.3, sd=0.3)   \n",
    "    mu_bkg = pm.Uniform('mu_bkg', lower=0.0, upper=0.01)\n",
    "    \n",
    "    # Evaluate the model for the given parameters\n",
    "    counts = counts_func(fwhm, xpos, ypos, ellip, theta, ampl, mu_bkg)\n",
    "    \n",
    "    # Cash statistic\n",
    "    def log_like(img):\n",
    "        logpm = np.array(counts - img*np.log(counts))\n",
    "        return -2.0*np.sum(logpm)\n",
    "    \n",
    "    # Define the likelihood. Either a Poisson likelihood or the cash model are \n",
    "    # currently possible. The parameter mu of the Poisson distribution corresponds\n",
    "    # to the counts, and observed=img_binned indicates the data to which we are\n",
    "    # fitting the model\n",
    "    \n",
    "    #likelihood = pm.DensityDist(\"likelihood\", log_like, observed=img_binned)                     \n",
    "    likelihood = pm.Poisson('likelihood', mu=counts, observed=img_binned)"
   ]
  },
  {
   "cell_type": "markdown",
   "metadata": {},
   "source": [
    "And now we sample"
   ]
  },
  {
   "cell_type": "code",
   "execution_count": null,
   "metadata": {},
   "outputs": [],
   "source": [
    "from scipy import optimize\n",
    "with source_model:\n",
    "    map_estimate = pm.find_MAP(fmin=scipy.optimize.fmin_powell, model=source_model)\n",
    "    step = pm.Metropolis()\n",
    "    trace = pm.sample(2000,step,map_estimate)"
   ]
  },
  {
   "cell_type": "code",
   "execution_count": null,
   "metadata": {},
   "outputs": [],
   "source": [
    "# Here we plot the posteriors and the traces for each paramerters. Pymc3 runs two parallel\n",
    "# chanins, but if more cores are available, we can run as many as we like.\n",
    "fig, axs = plt.subplots(7, 2,figsize=(10,10)) # 3 RVs\n",
    "_ = pm.traceplot(trace, ax=axs)\n",
    "#fig.savefig('traces4.pdf')"
   ]
  },
  {
   "cell_type": "markdown",
   "metadata": {},
   "source": [
    "The good news is that the posteriors do not look much different from the original version. Let's look at the summary:"
   ]
  },
  {
   "cell_type": "code",
   "execution_count": null,
   "metadata": {},
   "outputs": [],
   "source": [
    "# We can get a summary of the inferred parameters, including a convergence\n",
    "# diagnostic (rhat), whihc should be as close as possible to 1. Our chains \n",
    "# appear to have converged.\n",
    "summary = pm.stats.summary(trace)\n",
    "summary"
   ]
  },
  {
   "cell_type": "markdown",
   "metadata": {},
   "source": [
    "The uncertainties in position and width are a bit larger. The uncertainty in amplitude is same as before."
   ]
  },
  {
   "cell_type": "markdown",
   "metadata": {},
   "source": [
    "## Comparison with Sherpa MCMC\n",
    "We now perform the same fit using the Sherpa implementation of MCMC (but without the binning part, which is currently not part of Sherpa). Sherpa provides a Markov Chain Monte Carlo (MCMC) method designed for Poisson-distributed data. It was originally developed as the Bayesian Low-Count X-ray Spectral (BLoCXS) package, but has since been incorporated into Sherpa. It is developed from the work presented in Analysis of Energy Spectra with Low Photon Counts via Bayesian Posterior Simulation by van Dyk et al."
   ]
  },
  {
   "cell_type": "code",
   "execution_count": null,
   "metadata": {},
   "outputs": [],
   "source": [
    "# Let us first load the image data into Sherpa\n",
    "from sherpa.astro import ui\n",
    "import numpy as np\n",
    "ui.load_image('acisf02594_001N999_r0005b_ctsimg3.fits')"
   ]
  },
  {
   "cell_type": "code",
   "execution_count": null,
   "metadata": {},
   "outputs": [],
   "source": [
    "# Let us now load the PSF and resize crop it a bit\n",
    "ui.load_psf('psf0','acisf02594_001N999_r0005b_psf3.fits')\n",
    "psf0.size = [21,21]\n",
    "psf0.center = [24,27]"
   ]
  },
  {
   "cell_type": "code",
   "execution_count": null,
   "metadata": {},
   "outputs": [],
   "source": [
    "# We set the model PSF to the one we have loaded\n",
    "ui.set_psf('psf0')"
   ]
  },
  {
   "cell_type": "code",
   "execution_count": null,
   "metadata": {},
   "outputs": [],
   "source": [
    "print(ui.get_psf())"
   ]
  },
  {
   "cell_type": "code",
   "execution_count": null,
   "metadata": {},
   "outputs": [],
   "source": [
    "# We now set a Gaussian source model with a constant background and thaw ellipticity \n",
    "# and rotation angle. We also set the limits for background\n",
    "ui.set_source(ui.gauss2d.mdl)\n",
    "#ui.set_source(mdl + ui.const2d.bgmdl)\n",
    "mdl.ellip.thaw()\n",
    "mdl.theta.thaw()"
   ]
  },
  {
   "cell_type": "code",
   "execution_count": null,
   "metadata": {},
   "outputs": [],
   "source": [
    "# Here we set the statistic to the Cash statisitc, and the optimization method to Simplex.\n",
    "ui.set_stat('cash')\n",
    "ui.set_method('simplex')"
   ]
  },
  {
   "cell_type": "code",
   "execution_count": null,
   "metadata": {},
   "outputs": [],
   "source": [
    "# We want the value in each pixel to be read at the center\n",
    "#bgmdl.integrate = False"
   ]
  },
  {
   "cell_type": "code",
   "execution_count": null,
   "metadata": {},
   "outputs": [],
   "source": [
    "# Let us fit, by finding a MAP estimate. First, we have sherpa guessing initial values\n",
    "ui.guess(mdl)\n",
    "ui.fit()"
   ]
  },
  {
   "cell_type": "code",
   "execution_count": null,
   "metadata": {},
   "outputs": [],
   "source": [
    "# Let us fit again, just in case the optimizer got stuck\n",
    "ui.fit()"
   ]
  },
  {
   "cell_type": "code",
   "execution_count": null,
   "metadata": {},
   "outputs": [],
   "source": [
    "# We now print the model\n",
    "print(ui.get_source())"
   ]
  },
  {
   "cell_type": "code",
   "execution_count": null,
   "metadata": {},
   "outputs": [],
   "source": [
    "# Let us add background\n",
    "ui.set_source(mdl + ui.const2d.bgmdl)\n",
    "bgmdl.c0.min = 0.0\n",
    "bgmdl.c0.max = 0.01\n",
    "bgmdl.c0.val = 0.005"
   ]
  },
  {
   "cell_type": "code",
   "execution_count": null,
   "metadata": {},
   "outputs": [],
   "source": [
    "print(ui.get_source())"
   ]
  },
  {
   "cell_type": "code",
   "execution_count": null,
   "metadata": {},
   "outputs": [],
   "source": [
    "# We want the value in each pixel to be read at the center\n",
    "bgmdl.integrate = False"
   ]
  },
  {
   "cell_type": "code",
   "execution_count": null,
   "metadata": {},
   "outputs": [],
   "source": [
    "# Fit\n",
    "ui.fit()"
   ]
  },
  {
   "cell_type": "code",
   "execution_count": null,
   "metadata": {},
   "outputs": [],
   "source": [
    "# Do it again\n",
    "ui.fit()"
   ]
  },
  {
   "cell_type": "code",
   "execution_count": null,
   "metadata": {},
   "outputs": [],
   "source": [
    "# We now run 'conf' to find the errors\n",
    "ui.conf()"
   ]
  },
  {
   "cell_type": "code",
   "execution_count": null,
   "metadata": {},
   "outputs": [],
   "source": [
    "# Get the results from conf\n",
    "conf = ui.get_conf_results()"
   ]
  },
  {
   "cell_type": "code",
   "execution_count": null,
   "metadata": {},
   "outputs": [],
   "source": [
    "# Get the maxima of each parameter \n",
    "conf_err = np.array(ui.get_conf_results().parmaxes)\n",
    "conf_err"
   ]
  },
  {
   "cell_type": "code",
   "execution_count": null,
   "metadata": {},
   "outputs": [],
   "source": [
    "# We define the covar matrix with the erros from covar as diagonals\n",
    "cvmat = np.diag(conf_err*conf_err)"
   ]
  },
  {
   "cell_type": "code",
   "execution_count": null,
   "metadata": {},
   "outputs": [],
   "source": [
    "# Now we run MCMCM\n",
    "draws = ui.get_draws(niter=2000, covar_matrix=cvmat)"
   ]
  },
  {
   "cell_type": "code",
   "execution_count": null,
   "metadata": {},
   "outputs": [],
   "source": [
    "svals, accept, pvals = draws"
   ]
  },
  {
   "cell_type": "code",
   "execution_count": null,
   "metadata": {},
   "outputs": [],
   "source": [
    "# Acceptance rate\n",
    "accept.sum() * 1.0 / 1000"
   ]
  },
  {
   "cell_type": "code",
   "execution_count": null,
   "metadata": {},
   "outputs": [],
   "source": [
    "import matplotlib.pyplot as plt\n",
    "# Now let us plot the traces\n",
    "plt.subplots(3,3,figsize=(10,10))\n",
    "plt.subplot(3,3,1)\n",
    "plt.plot(pvals[0, :])\n",
    "plt.xlabel('Iteration')\n",
    "plt.ylabel('fwhm')\n",
    "plt.subplot(3,3,2)\n",
    "plt.plot(pvals[1, :])\n",
    "plt.xlabel('Iteration')\n",
    "plt.ylabel('xpos')\n",
    "plt.subplot(3,3,3)\n",
    "plt.plot(pvals[2, :])\n",
    "plt.xlabel('Iteration')\n",
    "plt.ylabel('ypos')\n",
    "plt.subplot(3,3,4)\n",
    "plt.plot(pvals[3, :])\n",
    "plt.xlabel('Iteration')\n",
    "plt.ylabel('ellip')\n",
    "plt.subplot(3,3,5)\n",
    "plt.plot(pvals[4, :])\n",
    "plt.xlabel('Iteration')\n",
    "plt.ylabel('theta')\n",
    "plt.subplot(3,3,6)\n",
    "plt.plot(pvals[5, :])\n",
    "plt.xlabel('Iteration')\n",
    "plt.ylabel('ampl')\n",
    "plt.subplot(3,3,7)\n",
    "plt.plot(pvals[6, :])\n",
    "plt.xlabel('Iteration')\n",
    "plt.ylabel('bkg')"
   ]
  },
  {
   "cell_type": "markdown",
   "metadata": {},
   "source": [
    "It appears to me that Sherpa get_draws fails to converge here. With only a few counts available, and seven parameters at play, this approach does not seem to be very robust, at least in its default version. Perhaps someone can play with this code and help it converge?"
   ]
  },
  {
   "cell_type": "code",
   "execution_count": null,
   "metadata": {},
   "outputs": [],
   "source": []
  }
 ],
 "metadata": {
  "anaconda-cloud": {},
  "kernelspec": {
   "display_name": "Python 3",
   "language": "python",
   "name": "python3"
  },
  "language_info": {
   "codemirror_mode": {
    "name": "ipython",
    "version": 3
   },
   "file_extension": ".py",
   "mimetype": "text/x-python",
   "name": "python",
   "nbconvert_exporter": "python",
   "pygments_lexer": "ipython3",
   "version": "3.6.8"
  }
 },
 "nbformat": 4,
 "nbformat_minor": 2
}
